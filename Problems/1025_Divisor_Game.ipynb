{
 "cells": [
  {
   "cell_type": "markdown",
   "metadata": {},
   "source": [
    "# level : Easy\n",
    "\n",
    "# Description\n",
    "\n",
    "Alice and Bob take turns playing a game, with Alice starting first.\n",
    "\n",
    "Initially, there is a number N on the chalkboard.  On each player's turn, that player makes a move consisting of:\n",
    "\n",
    "Choosing any x with 0 < x < N and N % x == 0.\n",
    "Replacing the number N on the chalkboard with N - x.\n",
    "Also, if a player cannot make a move, they lose the game.\n",
    "\n",
    "Return True if and only if Alice wins the game, assuming both players play optimally."
   ]
  },
  {
   "cell_type": "markdown",
   "metadata": {},
   "source": [
    "`Alice` 與 `Bob` 玩一個回合制遊戲, 由 `Alice` 開始.\n",
    "\n",
    "首先, 在黑版上寫一個數字 $N$. 玩家的回合, 玩家必須做以下操作:\n",
    "\n",
    "* 選擇一個 $x$ 滿足 $0 < x < N$ 以及 $x|N$. 用 $N - x$ 來取代 $N$. 如果玩家無法做此操作, 該玩就算輸家.\n",
    "\n",
    "回傳 `Alice` 是否能贏得此局的結果, 假設兩人都很聰明."
   ]
  },
  {
   "cell_type": "markdown",
   "metadata": {},
   "source": [
    "# Note:\n",
    "\n",
    "* 1 <= N <= 1000"
   ]
  },
  {
   "cell_type": "markdown",
   "metadata": {},
   "source": [
    "# Hint\n",
    "\n",
    "* If the current number is even, we can always subtract a 1 to make it odd. If the current number is odd, we must subtract an odd number to make it even."
   ]
  },
  {
   "cell_type": "markdown",
   "metadata": {},
   "source": [
    "* 如果當前數值是偶數, 可以減 &1& 使其變奇數. 如果當前是奇數, 只能減去一個奇數使其變偶數. "
   ]
  },
  {
   "cell_type": "markdown",
   "metadata": {},
   "source": [
    "# 想法\n",
    "\n",
    "其實不難證明:\n",
    "\n",
    "如果當前數值是偶數, 則選擇減一, 對方不論減去多少, 到自己方的下一輪仍然是偶數, 所以最終己方會變成 2, 因次答案很簡單的只要做奇偶判斷就可."
   ]
  },
  {
   "cell_type": "markdown",
   "metadata": {},
   "source": [
    "# Input\n",
    "N: int\n",
    "\n",
    "# Output\n",
    "\n",
    "bool: 先攻的 `Alice` 是否能贏 "
   ]
  },
  {
   "cell_type": "code",
   "execution_count": 1,
   "metadata": {},
   "outputs": [],
   "source": [
    "def divisorGame(N):\n",
    "    return N % 2 == 0"
   ]
  },
  {
   "cell_type": "code",
   "execution_count": 2,
   "metadata": {},
   "outputs": [
    {
     "data": {
      "text/plain": [
       "True"
      ]
     },
     "execution_count": 2,
     "metadata": {},
     "output_type": "execute_result"
    }
   ],
   "source": [
    "N = 2\n",
    "\n",
    "divisorGame(N)"
   ]
  },
  {
   "cell_type": "code",
   "execution_count": 3,
   "metadata": {},
   "outputs": [
    {
     "data": {
      "text/plain": [
       "False"
      ]
     },
     "execution_count": 3,
     "metadata": {},
     "output_type": "execute_result"
    }
   ],
   "source": [
    "N = 3\n",
    "\n",
    "divisorGame(N)"
   ]
  }
 ],
 "metadata": {
  "kernelspec": {
   "display_name": "Python 3",
   "language": "python",
   "name": "python3"
  },
  "language_info": {
   "codemirror_mode": {
    "name": "ipython",
    "version": 3
   },
   "file_extension": ".py",
   "mimetype": "text/x-python",
   "name": "python",
   "nbconvert_exporter": "python",
   "pygments_lexer": "ipython3",
   "version": "3.7.5"
  }
 },
 "nbformat": 4,
 "nbformat_minor": 2
}
