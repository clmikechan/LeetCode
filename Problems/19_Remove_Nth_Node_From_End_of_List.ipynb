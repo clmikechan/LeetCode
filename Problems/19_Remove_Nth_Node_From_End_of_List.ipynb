{
 "cells": [
  {
   "cell_type": "markdown",
   "metadata": {},
   "source": [
    "# level: Medium\n",
    "\n",
    "# Description\n",
    "\n",
    "Given a linked list, remove the n-th node from the end of list and return its head."
   ]
  },
  {
   "cell_type": "markdown",
   "metadata": {},
   "source": [
    "給定一個連結串列, 去除從尾算來第 n 個節點, 並回傳起點."
   ]
  },
  {
   "cell_type": "markdown",
   "metadata": {},
   "source": [
    "# 想法\n",
    "\n",
    "用兩個相隔 `n` 的指標 `b`(before) 以及 `a`(after)\n",
    "依相等的間距逐步行進,  當 `a` 的下一個是 `None` 時, 表示到了盡頭.\n",
    "此時讓 `b.next = b.next.next` 即可\n",
    "\n",
    "需要注意的是特述情形:\n",
    "\n",
    "1. `n == 1`: 除去最後一個結點. 所以在 `a.next == None` 時, 要做的是 `b.next = None`(因為沒有 `b.next.next`)\n",
    "\n",
    "2. `n` 為整個鍊長, 意即 `a == None`. 此時要做的處理是將 `head = head.next`, 意即從第二個結點開始."
   ]
  },
  {
   "cell_type": "markdown",
   "metadata": {},
   "source": [
    "# Input\n",
    "\n",
    "head: ListNode\n",
    "n: int\n",
    "        \n",
    "# Output\n",
    "\n",
    "ListNode: 經過處理後之串列"
   ]
  },
  {
   "cell_type": "markdown",
   "metadata": {},
   "source": [
    "# 實作"
   ]
  },
  {
   "cell_type": "code",
   "execution_count": 1,
   "metadata": {},
   "outputs": [],
   "source": [
    "from predefinitions import ListNode\n",
    "\n",
    "def removeNthFromEnd(head, n):\n",
    "        b = head\n",
    "        a = head\n",
    "        for _ in range(n):\n",
    "            a = a.next\n",
    "        if not a:\n",
    "            return head.next\n",
    "        while a.next:\n",
    "            b = b.next\n",
    "            a = a.next\n",
    "        else:\n",
    "            if n == 1:\n",
    "                b.next = None\n",
    "                return head\n",
    "\n",
    "            b.next = b.next.next\n",
    "            return head"
   ]
  },
  {
   "cell_type": "code",
   "execution_count": 2,
   "metadata": {},
   "outputs": [
    {
     "name": "stdout",
     "output_type": "stream",
     "text": [
      "1\n",
      "2\n",
      "3\n",
      "5\n"
     ]
    }
   ],
   "source": [
    "head = ListNode(1)\n",
    "head.next = ListNode(2)\n",
    "head.next.next = ListNode(3)\n",
    "head.next.next.next = ListNode(4)\n",
    "head.next.next.next.next = ListNode(5)\n",
    "\n",
    "n = 2\n",
    "\n",
    "ans = removeNthFromEnd(head, n)\n",
    "while ans:\n",
    "    print(ans.val)\n",
    "    ans = ans.next"
   ]
  }
 ],
 "metadata": {
  "kernelspec": {
   "display_name": "Python 3",
   "language": "python",
   "name": "python3"
  },
  "language_info": {
   "codemirror_mode": {
    "name": "ipython",
    "version": 3
   },
   "file_extension": ".py",
   "mimetype": "text/x-python",
   "name": "python",
   "nbconvert_exporter": "python",
   "pygments_lexer": "ipython3",
   "version": "3.7.5"
  }
 },
 "nbformat": 4,
 "nbformat_minor": 2
}
