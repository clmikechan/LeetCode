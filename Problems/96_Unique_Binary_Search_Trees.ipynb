{
 "cells": [
  {
   "cell_type": "markdown",
   "metadata": {},
   "source": [
    "# level: Medium\n",
    "\n",
    "# Description\n",
    "\n",
    "Given n, how many structurally unique BST's (binary search trees) that store values 1 ... n?"
   ]
  },
  {
   "cell_type": "markdown",
   "metadata": {},
   "source": [
    "給定 n, 有幾種不同的二元檢索樹可以儲存從 1 到 n 之整數?"
   ]
  },
  {
   "cell_type": "markdown",
   "metadata": {},
   "source": [
    "# 想法\n",
    "\n",
    "一開始糾結在每次增加一個數字, 找有幾個會重複的. 想了老半天想不出來.\n",
    "\n",
    "後來參考別人的[想法] 才想到:\n",
    "* 可以以根結點來將數字分兩堆, 然後將兩堆的可能性數相乘, 就是用這個數字當根結點的解數\n",
    "\n",
    "實作時又另一個問題: n 到 15 就超時了. 但是後來又想到\n",
    "* 1 和 n, 2 和 n - 1,... 的可能數應該是一樣的\n",
    "\n",
    "[想法]: https://medium.com/@bill800227/leetcode-96-unique-binary-search-trees-abce6e62a7a0"
   ]
  },
  {
   "cell_type": "markdown",
   "metadata": {},
   "source": [
    "# input:\n",
    "n: int\n",
    "\n",
    "# output:\n",
    "int: 可能的二元檢索樹數"
   ]
  },
  {
   "cell_type": "markdown",
   "metadata": {},
   "source": [
    "# 實作"
   ]
  },
  {
   "cell_type": "code",
   "execution_count": 1,
   "metadata": {},
   "outputs": [],
   "source": [
    "def numTrees(n):\n",
    "    if n == 0: return 1\n",
    "    m = n\n",
    "    odd = False\n",
    "    if m % 2 == 1:\n",
    "        odd = True\n",
    "        m += 1\n",
    "    m //= 2\n",
    "    ret = 0\n",
    "    oddterm = 0\n",
    "    for i in range(1, m + 1):\n",
    "\n",
    "        if odd and i == m:\n",
    "            oddterm += numTrees(i - 1) * numTrees(n - i)\n",
    "        else:\n",
    "            ret += numTrees(i - 1) * numTrees(n - i)\n",
    "    return 2 * ret + oddterm"
   ]
  },
  {
   "cell_type": "code",
   "execution_count": 2,
   "metadata": {},
   "outputs": [
    {
     "data": {
      "text/plain": [
       "5"
      ]
     },
     "execution_count": 2,
     "metadata": {},
     "output_type": "execute_result"
    }
   ],
   "source": [
    "n = 3\n",
    "numTrees(n)"
   ]
  },
  {
   "cell_type": "markdown",
   "metadata": {},
   "source": [
    "# 另外在參考答案看到的解決第二個問題的方法:(實測大概快十倍以上)\n",
    "* 將已經算過的 n 用一個字典來儲存"
   ]
  },
  {
   "cell_type": "code",
   "execution_count": 3,
   "metadata": {},
   "outputs": [],
   "source": [
    "answer = {}\n",
    "def numTrees(n):\n",
    "    if n in answer: return answer[n]\n",
    "    if n == 0: return 1\n",
    "    m = n\n",
    "    odd = False\n",
    "    if m % 2 == 1:\n",
    "        odd = True\n",
    "        m += 1\n",
    "    m //= 2\n",
    "    ret = 0\n",
    "    oddterm = 0\n",
    "    for i in range(1, m + 1):\n",
    "\n",
    "        if odd and i == m:\n",
    "            oddterm += numTrees(i - 1) * numTrees(n - i)\n",
    "        else:\n",
    "            ret += numTrees(i - 1) * numTrees(n - i)\n",
    "    answer[n] = 2 * ret + oddterm\n",
    "    return 2 * ret + oddterm"
   ]
  },
  {
   "cell_type": "code",
   "execution_count": 4,
   "metadata": {},
   "outputs": [
    {
     "data": {
      "text/plain": [
       "5"
      ]
     },
     "execution_count": 4,
     "metadata": {},
     "output_type": "execute_result"
    }
   ],
   "source": [
    "n = 3\n",
    "numTrees(n)"
   ]
  },
  {
   "cell_type": "code",
   "execution_count": 5,
   "metadata": {},
   "outputs": [
    {
     "data": {
      "text/plain": [
       "{1: 1, 2: 2, 3: 5}"
      ]
     },
     "execution_count": 5,
     "metadata": {},
     "output_type": "execute_result"
    }
   ],
   "source": [
    "answer"
   ]
  },
  {
   "cell_type": "code",
   "execution_count": 6,
   "metadata": {},
   "outputs": [
    {
     "data": {
      "text/plain": [
       "1767263190"
      ]
     },
     "execution_count": 6,
     "metadata": {},
     "output_type": "execute_result"
    }
   ],
   "source": [
    "n = 19\n",
    "numTrees(n)"
   ]
  },
  {
   "cell_type": "code",
   "execution_count": 7,
   "metadata": {},
   "outputs": [
    {
     "data": {
      "text/plain": [
       "{1: 1,\n",
       " 2: 2,\n",
       " 3: 5,\n",
       " 4: 14,\n",
       " 5: 42,\n",
       " 6: 132,\n",
       " 7: 429,\n",
       " 8: 1430,\n",
       " 9: 4862,\n",
       " 10: 16796,\n",
       " 11: 58786,\n",
       " 12: 208012,\n",
       " 13: 742900,\n",
       " 14: 2674440,\n",
       " 15: 9694845,\n",
       " 16: 35357670,\n",
       " 17: 129644790,\n",
       " 18: 477638700,\n",
       " 19: 1767263190}"
      ]
     },
     "execution_count": 7,
     "metadata": {},
     "output_type": "execute_result"
    }
   ],
   "source": [
    "answer"
   ]
  },
  {
   "cell_type": "code",
   "execution_count": null,
   "metadata": {},
   "outputs": [],
   "source": []
  }
 ],
 "metadata": {
  "kernelspec": {
   "display_name": "Python 3",
   "language": "python",
   "name": "python3"
  },
  "language_info": {
   "codemirror_mode": {
    "name": "ipython",
    "version": 3
   },
   "file_extension": ".py",
   "mimetype": "text/x-python",
   "name": "python",
   "nbconvert_exporter": "python",
   "pygments_lexer": "ipython3",
   "version": "3.7.5"
  }
 },
 "nbformat": 4,
 "nbformat_minor": 2
}
