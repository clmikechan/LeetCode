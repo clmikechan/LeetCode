{
 "cells": [
  {
   "cell_type": "markdown",
   "metadata": {},
   "source": [
    "# level: Medium\n",
    "\n",
    "# Description\n",
    "\n",
    "Design an Iterator class, which has:\n",
    "\n",
    "* A constructor that takes a string characters of sorted distinct lowercase English letters and a number combinationLength as arguments.\n",
    "\n",
    "* A function next() that returns the next combination of length combinationLength in lexicographical order.\n",
    "\n",
    "* A function hasNext() that returns True if and only if there exists a next combination."
   ]
  },
  {
   "cell_type": "markdown",
   "metadata": {},
   "source": [
    "設計一個迭代類別, 包含:\n",
    "\n",
    "* 建構子由一個全異依序排列之小寫字母以及一個組合長度數字做為輸入引數.\n",
    "\n",
    "* 一個函數 `next()` 回傳依字典順序的下一個組合長度之字串.\n",
    "\n",
    "* 一個函數 `hasNext()` 回傳是否有下一個組合."
   ]
  },
  {
   "cell_type": "markdown",
   "metadata": {},
   "source": [
    "Constraints:\n",
    "\n",
    "* $1 \\le combinationLength <= characters.length \\le 15$\n",
    "* There will be at most $10^{4}$ function calls per test.\n",
    "* It's guaranteed that all calls of the function next are valid."
   ]
  },
  {
   "cell_type": "markdown",
   "metadata": {},
   "source": [
    "* $1 \\le combinationLength <= characters.length \\le 15$.\n",
    "* 每一個測試最多呼叫 $10^{4}$ 次函數.\n",
    "* 每一次呼叫 `next` 都被保證是有效的"
   ]
  },
  {
   "cell_type": "markdown",
   "metadata": {},
   "source": [
    "# Hint\n",
    "\n",
    "1. Generate all combinations as a preprocessing.\n",
    "2. Use bit masking to generate all the combinations."
   ]
  },
  {
   "cell_type": "markdown",
   "metadata": {},
   "source": [
    "1. 產出所有組合作為前處理\n",
    "2. 使用位元遮罩來產生所有組合."
   ]
  },
  {
   "cell_type": "markdown",
   "metadata": {},
   "source": [
    "# 想法\n",
    "\n",
    "用一個嚴格遞增之陣列來裝指標, 指標陣列的長度為 `combinationLength + 1`, 最後一個位置固定為 `len(characters)`\n",
    "每次呼叫 `next()` 時先將指標指到的位置(不包含最後一個)之字元提出來最為回傳值, 然後由倒數第二個位置開始往回找加一不會碰到後一位置的指標, 將這一個位置及其後之所有位置開始取代成此位置加一開始, 公差為 `1` 之等差序列.\n",
    "\n",
    "以例題來說\n",
    "\n",
    "第一次呼叫 `next()` 前 指標陣列為 `[0, 1, 3]`, 對應字串為 `ab`\n",
    "\n",
    "因為 $1 + 1 \\neq 3$, 將 1 取代為 $1 + 1 = 2$, 即 `[0, 2, 3]`, 所以下一個對應字串為 `ac`\n",
    "\n",
    "第二次呼叫時, $2 + 1 = 3$, 往前一位為 $0$, $0 + 1 = 1 \\neq 2$, 所以將 $[0, 2]$ 變成 $[0 + 1, 0 + 1 + 1]$, 也就是指便變成`[1, 2, 3]`, 下一個對應字串為 `bc`.\n",
    "\n",
    "當最後無法再有下一個時, 將指標陣列用 `None` 取代, `hasNext()` 的判斷依據就是指標陣列是否為 `None`"
   ]
  },
  {
   "cell_type": "markdown",
   "metadata": {},
   "source": [
    "# 實作"
   ]
  },
  {
   "cell_type": "code",
   "execution_count": 1,
   "metadata": {},
   "outputs": [],
   "source": [
    "class CombinationIterator:\n",
    "\n",
    "    def __init__(self, characters: str, combinationLength: int):\n",
    "        self.__characters = characters\n",
    "        self.__indexes = list(range(combinationLength)) + [len(characters)]\n",
    "\n",
    "    def next(self) -> str:\n",
    "        characters = self.__characters\n",
    "        indexes = self.__indexes\n",
    "        ret = ''.join([self.__characters[i] for i in indexes[:-1]])\n",
    "        cur = len(indexes) - 2\n",
    "        while indexes[cur] + 1 == indexes[cur + 1]:\n",
    "            cur -= 1\n",
    "            if cur == -1:\n",
    "                self.__indexes = None\n",
    "                break\n",
    "        else:\n",
    "            self.__indexes[cur:-1] = list(range(indexes[cur] + 1, indexes[cur] + 1 + len(indexes) - cur - 1))\n",
    "\n",
    "        return ret\n",
    "\n",
    "    def hasNext(self) -> bool:\n",
    "        return not self.__indexes is None"
   ]
  },
  {
   "cell_type": "code",
   "execution_count": 2,
   "metadata": {},
   "outputs": [
    {
     "name": "stdout",
     "output_type": "stream",
     "text": [
      "ab\n",
      "True\n",
      "ac\n",
      "True\n",
      "bc\n",
      "False\n"
     ]
    }
   ],
   "source": [
    "iterator = CombinationIterator(\"abc\", 2)\n",
    "print(iterator.next())\n",
    "print(iterator.hasNext())\n",
    "print(iterator.next())\n",
    "print(iterator.hasNext())\n",
    "print(iterator.next())\n",
    "print(iterator.hasNext())"
   ]
  }
 ],
 "metadata": {
  "kernelspec": {
   "display_name": "Python 3",
   "language": "python",
   "name": "python3"
  },
  "language_info": {
   "codemirror_mode": {
    "name": "ipython",
    "version": 3
   },
   "file_extension": ".py",
   "mimetype": "text/x-python",
   "name": "python",
   "nbconvert_exporter": "python",
   "pygments_lexer": "ipython3",
   "version": "3.7.5"
  }
 },
 "nbformat": 4,
 "nbformat_minor": 2
}
