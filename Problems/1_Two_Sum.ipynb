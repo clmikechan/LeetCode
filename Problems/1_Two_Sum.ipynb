{
 "cells": [
  {
   "cell_type": "markdown",
   "metadata": {},
   "source": [
    "# level: Easy\n",
    "\n",
    "# Description\n",
    "\n",
    "Given an array of integers, return indices of the two numbers such that they add up to a specific target.\n",
    "\n",
    "You may assume that each input would have exactly one solution, and you may not use the same element twice."
   ]
  },
  {
   "cell_type": "markdown",
   "metadata": {},
   "source": [
    "給定一個整數陣列, 取得兩個相加等於給定之目標值的數的位置\n",
    "\n",
    "可以假定所有的題目都有正好一組解, 而且每個元素不能使用兩次"
   ]
  },
  {
   "cell_type": "markdown",
   "metadata": {},
   "source": [
    "# 想法\n",
    "\n",
    "* LeetCode 的第一題, 對於想我這樣不是走\"資\"派出身的人, 第一直覺想到的自然是用兩個迴圈遍歷整個陣列來找答案.\n",
    "  結果就是花費時間很大\n",
    "\n",
    "* 接著可以想到的做法就是用額外的空間來儲存已經走過的元素, 這時候就可以看出陣列和 HashMap 之間的差異了"
   ]
  },
  {
   "cell_type": "markdown",
   "metadata": {},
   "source": [
    "# input:\n",
    "nums: List of int\n",
    "target: int\n",
    "\n",
    "# output:\n",
    "List of int: 兩個相加等於目標值的數的位置"
   ]
  },
  {
   "cell_type": "markdown",
   "metadata": {},
   "source": [
    "# 實作"
   ]
  },
  {
   "cell_type": "markdown",
   "metadata": {},
   "source": [
    "# 最直接的想法: 使用兩個迴圈(速度非常慢)"
   ]
  },
  {
   "cell_type": "code",
   "execution_count": 1,
   "metadata": {},
   "outputs": [],
   "source": [
    "def twoSum(nums, target):\n",
    "    list_length = len(nums)\n",
    "    for i in range(list_length):\n",
    "        y = target - nums[i]\n",
    "        for j in range(i + 1,list_length):\n",
    "            if y == nums[j]:\n",
    "                return [i, j]"
   ]
  },
  {
   "cell_type": "code",
   "execution_count": 2,
   "metadata": {},
   "outputs": [
    {
     "data": {
      "text/plain": [
       "[0, 1]"
      ]
     },
     "execution_count": 2,
     "metadata": {},
     "output_type": "execute_result"
    }
   ],
   "source": [
    "nums = [2, 7, 11, 15]\n",
    "target = 9\n",
    "twoSum(nums, target)"
   ]
  },
  {
   "cell_type": "markdown",
   "metadata": {},
   "source": [
    "#  使用陣列來當作暫存(快很多, 但還是很慢)"
   ]
  },
  {
   "cell_type": "code",
   "execution_count": 3,
   "metadata": {},
   "outputs": [],
   "source": [
    "def twoSum(nums, target):\n",
    "    indexes = []\n",
    "    for i, x in enumerate(nums):\n",
    "        if x in indexes:\n",
    "            return [indexes.index(x), i]\n",
    "        indexes.append(target - x)"
   ]
  },
  {
   "cell_type": "code",
   "execution_count": 4,
   "metadata": {},
   "outputs": [
    {
     "data": {
      "text/plain": [
       "[0, 1]"
      ]
     },
     "execution_count": 4,
     "metadata": {},
     "output_type": "execute_result"
    }
   ],
   "source": [
    "nums = [2, 7, 11, 15]\n",
    "target = 9\n",
    "twoSum(nums, target)"
   ]
  },
  {
   "cell_type": "markdown",
   "metadata": {},
   "source": [
    "# 使用 HashMap(python 叫做字典 dictionary)來當作暫存(快更多)"
   ]
  },
  {
   "cell_type": "code",
   "execution_count": 5,
   "metadata": {},
   "outputs": [],
   "source": [
    "def twoSum(nums, target):\n",
    "    indexes = {}\n",
    "    for j, y in enumerate(nums):\n",
    "        i = indexes.get(y, -1)\n",
    "        if i != -1:\n",
    "            return [i, j]\n",
    "        else:\n",
    "            indexes[target - y] = j"
   ]
  },
  {
   "cell_type": "code",
   "execution_count": 6,
   "metadata": {},
   "outputs": [
    {
     "data": {
      "text/plain": [
       "[0, 1]"
      ]
     },
     "execution_count": 6,
     "metadata": {},
     "output_type": "execute_result"
    }
   ],
   "source": [
    "nums = [2, 7, 11, 15]\n",
    "target = 9\n",
    "twoSum(nums, target)"
   ]
  }
 ],
 "metadata": {
  "kernelspec": {
   "display_name": "Python 3",
   "language": "python",
   "name": "python3"
  },
  "language_info": {
   "codemirror_mode": {
    "name": "ipython",
    "version": 3
   },
   "file_extension": ".py",
   "mimetype": "text/x-python",
   "name": "python",
   "nbconvert_exporter": "python",
   "pygments_lexer": "ipython3",
   "version": "3.7.5"
  }
 },
 "nbformat": 4,
 "nbformat_minor": 2
}
