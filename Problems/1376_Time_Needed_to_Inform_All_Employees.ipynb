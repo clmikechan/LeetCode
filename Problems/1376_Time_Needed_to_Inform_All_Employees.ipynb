{
 "cells": [
  {
   "cell_type": "markdown",
   "metadata": {},
   "source": [
    "# level: Medium\n",
    "\n",
    "# Description\n",
    "\n",
    "A company has n employees with a unique ID for each employee from 0 to n - 1. The head of the company has is the one with headID.\n",
    "\n",
    "Each employee has one direct manager given in the manager array where manager[i] is the direct manager of the i-th employee, manager[headID] = -1. Also it's guaranteed that the subordination relationships have a tree structure.\n",
    "\n",
    "The head of the company wants to inform all the employees of the company of an urgent piece of news. He will inform his direct subordinates and they will inform their subordinates and so on until all employees know about the urgent news.\n",
    "\n",
    "The i-th employee needs informTime[i] minutes to inform all of his direct subordinates (i.e After informTime[i] minutes, all his direct subordinates can start spreading the news).\n",
    "\n",
    "Return the number of minutes needed to inform all the employees about the urgent news."
   ]
  },
  {
   "cell_type": "markdown",
   "metadata": {},
   "source": [
    "一家公司有 $n$ 個員工, 每個員工給予介於 $0$ 到 $n - 1$ 之間的唯一 ID. 公司的老大之 ID 為 headID.\n",
    "\n",
    "每一個員工都有一個直接的主管, 以陣列 `manager` 來表示, 其中 `manager[i]` 代表第 `i` 位員工的主管, 並且 `manager[headID] = -1`.\n",
    "這裡保證下屬關係會有一個樹狀結構.\n",
    "\n",
    "現在老大小要告知所有員工一條緊急的消息. 他打算告知其直屬手下, 並且叫他們告知其各自之下屬.\n",
    "\n",
    "第 `i` 號員工需要花費 `infoTime[i]` 的時間來通知其所有的直屬下屬,(舉例來說, 在經過 `informTime[i]` 分鐘後, 他的所有直屬下屬都可以開始傳遞消息.)\n",
    "\n",
    "回傳傳遞訊息到所有員工所需之時間"
   ]
  },
  {
   "cell_type": "markdown",
   "metadata": {},
   "source": [
    "Constraints:\n",
    "\n",
    "* $1 \\le n \\le 10^{5}$\n",
    "* $0 \\le headID < n$\n",
    "* $manager.length == n$\n",
    "* $0 \\le manager[i] < n$\n",
    "* $manager[headID] == -1$\n",
    "* $informTime.length == n$\n",
    "* $0 \\le informTime[i] \\le 1000$\n",
    "* $informTime[i] == 0$ if employee `i` has no subordinates.\n",
    "* It is guaranteed that all the employees can be informed."
   ]
  },
  {
   "cell_type": "markdown",
   "metadata": {},
   "source": [
    "* $1 \\le n \\le 10^{5}$\n",
    "* $0 \\le headID < n$\n",
    "* $manager.length == n$\n",
    "* $0 \\le manager[i] < n$\n",
    "* $manager[headID] == -1$\n",
    "* $informTime.length == n$\n",
    "* $0 \\le informTime[i] \\le 1000$\n",
    "* $informTime[i] == 0$ 如果第 `i` 位員工沒有下屬.\n",
    "* 每位員工都被保證會被通知到."
   ]
  },
  {
   "cell_type": "markdown",
   "metadata": {},
   "source": [
    "# Hint\n",
    "\n",
    "1. The company can be represented as a tree, headID is always the root.\n",
    "\n",
    "2. Store for each node the time needed to be informed of the news.\n",
    "\n",
    "3. Answer is the max time a leaf node needs to be informed."
   ]
  },
  {
   "cell_type": "markdown",
   "metadata": {},
   "source": [
    "1. 公司可以被表示成樹狀結構, headID 永遠是根結點.\n",
    "\n",
    "2. 每一個結點儲存其被告知訊息所需之時間.\n",
    "\n",
    "3. 答案是最大的葉結點."
   ]
  },
  {
   "cell_type": "markdown",
   "metadata": {},
   "source": [
    "# 想法\n",
    "\n",
    "因為是樹狀結構, 所以就從最終端的結點開始, 每一個上一階的結點都將其所有分支花費之最大時間加上自身之傳遞時間往上丟給上一層來處理"
   ]
  },
  {
   "cell_type": "markdown",
   "metadata": {},
   "source": [
    "# Input\n",
    "n: int\n",
    "headID: int\n",
    "manager: list of int\n",
    "informTime: list of int\n",
    "## 外加之 input:\n",
    "tree: dictionary:\n",
    "> * key: int\n",
    "> * value: list of int\n",
    "\n",
    "# Output\n",
    "int: 需花費之時間"
   ]
  },
  {
   "cell_type": "markdown",
   "metadata": {},
   "source": [
    "# 預處理函數"
   ]
  },
  {
   "cell_type": "code",
   "execution_count": 1,
   "metadata": {},
   "outputs": [],
   "source": [
    "def toTree(manager):\n",
    "    tree = {}\n",
    "    for i, x in enumerate(manager):\n",
    "        if x > -1:\n",
    "            if x in tree:\n",
    "                tree[x].append(i)\n",
    "            else:\n",
    "                tree[x] = [i]\n",
    "    return tree"
   ]
  },
  {
   "cell_type": "markdown",
   "metadata": {},
   "source": [
    "# 主處理函數"
   ]
  },
  {
   "cell_type": "code",
   "execution_count": 2,
   "metadata": {},
   "outputs": [],
   "source": [
    "def numOfMinutes(n, headID, manager, informTime, tree=None):\n",
    "    if not tree: tree = toTree(manager)\n",
    "\n",
    "    if headID not in tree: return 0\n",
    "    nval = None\n",
    "    for x in tree[headID]:\n",
    "        tmp = numOfMinutes(n, x, manager, informTime, tree)\n",
    "        nval = tmp if nval is None else max(nval, tmp)\n",
    "\n",
    "    return informTime[headID] + nval"
   ]
  },
  {
   "cell_type": "code",
   "execution_count": 3,
   "metadata": {},
   "outputs": [
    {
     "data": {
      "text/plain": [
       "0"
      ]
     },
     "execution_count": 3,
     "metadata": {},
     "output_type": "execute_result"
    }
   ],
   "source": [
    "n = 1\n",
    "headID = 0\n",
    "manager = [-1]\n",
    "informTime = [0]\n",
    "numOfMinutes(n, headID, manager, informTime)"
   ]
  },
  {
   "cell_type": "code",
   "execution_count": 4,
   "metadata": {},
   "outputs": [
    {
     "data": {
      "text/plain": [
       "1"
      ]
     },
     "execution_count": 4,
     "metadata": {},
     "output_type": "execute_result"
    }
   ],
   "source": [
    "n = 6\n",
    "headID = 2\n",
    "manager = [2,2,-1,2,2,2]\n",
    "informTime = [0,0,1,0,0,0]\n",
    "\n",
    "numOfMinutes(n, headID, manager, informTime)"
   ]
  },
  {
   "cell_type": "code",
   "execution_count": 5,
   "metadata": {},
   "outputs": [
    {
     "data": {
      "text/plain": [
       "21"
      ]
     },
     "execution_count": 5,
     "metadata": {},
     "output_type": "execute_result"
    }
   ],
   "source": [
    "n = 7\n",
    "headID = 6\n",
    "manager = [1,2,3,4,5,6,-1]\n",
    "informTime = [0,6,5,4,3,2,1]\n",
    "\n",
    "numOfMinutes(n, headID, manager, informTime)"
   ]
  },
  {
   "cell_type": "code",
   "execution_count": 6,
   "metadata": {},
   "outputs": [
    {
     "data": {
      "text/plain": [
       "3"
      ]
     },
     "execution_count": 6,
     "metadata": {},
     "output_type": "execute_result"
    }
   ],
   "source": [
    "n = 15\n",
    "headID = 0\n",
    "manager = [-1,0,0,1,1,2,2,3,3,4,4,5,5,6,6]\n",
    "informTime = [1,1,1,1,1,1,1,0,0,0,0,0,0,0,0]\n",
    "\n",
    "numOfMinutes(n, headID, manager, informTime)"
   ]
  },
  {
   "cell_type": "code",
   "execution_count": 7,
   "metadata": {},
   "outputs": [
    {
     "data": {
      "text/plain": [
       "1076"
      ]
     },
     "execution_count": 7,
     "metadata": {},
     "output_type": "execute_result"
    }
   ],
   "source": [
    "n = 4\n",
    "headID = 2\n",
    "manager = [3,3,-1,2]\n",
    "informTime = [0,0,162,914]\n",
    "\n",
    "numOfMinutes(n, headID, manager, informTime)"
   ]
  }
 ],
 "metadata": {
  "kernelspec": {
   "display_name": "Python 3",
   "language": "python",
   "name": "python3"
  },
  "language_info": {
   "codemirror_mode": {
    "name": "ipython",
    "version": 3
   },
   "file_extension": ".py",
   "mimetype": "text/x-python",
   "name": "python",
   "nbconvert_exporter": "python",
   "pygments_lexer": "ipython3",
   "version": "3.7.5"
  }
 },
 "nbformat": 4,
 "nbformat_minor": 2
}
