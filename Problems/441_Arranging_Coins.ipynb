{
 "cells": [
  {
   "cell_type": "markdown",
   "metadata": {},
   "source": [
    "# level: Easy\n",
    "\n",
    "# Description\n",
    "\n",
    "You have a total of n coins that you want to form in a staircase shape, where every k-th row must have exactly k coins.\n",
    "\n",
    "Given n, find the total number of full staircase rows that can be formed.\n",
    "\n",
    "n is a non-negative integer and fits within the range of a 32-bit signed integer."
   ]
  },
  {
   "cell_type": "markdown",
   "metadata": {},
   "source": [
    "總共有 `n` 個硬幣要排成梯狀, 第 `k` 層有 `k` 個硬幣.\n",
    "\n",
    "給定 `n`, 找出能填滿的層數.\n",
    "\n",
    "n 是非負整數, 並且小於 32 位元有正負號之整數."
   ]
  },
  {
   "cell_type": "markdown",
   "metadata": {},
   "source": [
    "# 想法\n",
    "\n",
    "這題其實是數學題.\n",
    "\n",
    "先看一共有 `k` 層是填滿的, 那麼需要硬幣數 $n = \\frac{k(k - 1)}{2}$\n",
    "\n",
    "反過來可得 $k = \\frac{\\sqrt{8n + 1} - 1}{2}$\n",
    "\n",
    "所以給定 `n`, $k = \\text{int}(\\frac{\\sqrt{8n + 1} - 1}{2})$"
   ]
  },
  {
   "cell_type": "markdown",
   "metadata": {},
   "source": [
    "# Input\n",
    "\n",
    "n: int\n",
    "\n",
    "# Output\n",
    "\n",
    "int: 可以填滿之層數"
   ]
  },
  {
   "cell_type": "markdown",
   "metadata": {},
   "source": [
    "# 實作"
   ]
  },
  {
   "cell_type": "code",
   "execution_count": 1,
   "metadata": {},
   "outputs": [],
   "source": [
    "def arrangeCoins(n):\n",
    "    return int(((8 * n + 1) ** 0.5 - 1) / 2)"
   ]
  },
  {
   "cell_type": "code",
   "execution_count": 2,
   "metadata": {},
   "outputs": [
    {
     "data": {
      "text/plain": [
       "2"
      ]
     },
     "execution_count": 2,
     "metadata": {},
     "output_type": "execute_result"
    }
   ],
   "source": [
    "n = 5\n",
    "arrangeCoins(n)"
   ]
  },
  {
   "cell_type": "code",
   "execution_count": 3,
   "metadata": {},
   "outputs": [
    {
     "data": {
      "text/plain": [
       "3"
      ]
     },
     "execution_count": 3,
     "metadata": {},
     "output_type": "execute_result"
    }
   ],
   "source": [
    "n = 8\n",
    "arrangeCoins(n)"
   ]
  }
 ],
 "metadata": {
  "kernelspec": {
   "display_name": "Python 3",
   "language": "python",
   "name": "python3"
  },
  "language_info": {
   "codemirror_mode": {
    "name": "ipython",
    "version": 3
   },
   "file_extension": ".py",
   "mimetype": "text/x-python",
   "name": "python",
   "nbconvert_exporter": "python",
   "pygments_lexer": "ipython3",
   "version": "3.7.5"
  }
 },
 "nbformat": 4,
 "nbformat_minor": 2
}
