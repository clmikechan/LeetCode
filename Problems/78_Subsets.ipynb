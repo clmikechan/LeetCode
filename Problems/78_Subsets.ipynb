{
 "cells": [
  {
   "cell_type": "markdown",
   "metadata": {},
   "source": [
    "# level: Medium\n",
    "\n",
    "# Description\n",
    "\n",
    "Given a set of distinct integers, nums, return all possible subsets (the power set)."
   ]
  },
  {
   "cell_type": "markdown",
   "metadata": {},
   "source": [
    "給定一個不重複的整數集, `nums`, 回傳其所有子集(冪集)."
   ]
  },
  {
   "cell_type": "markdown",
   "metadata": {},
   "source": [
    "# Note\n",
    "\n",
    "* The solution set must not contain duplicate subsets."
   ]
  },
  {
   "cell_type": "markdown",
   "metadata": {},
   "source": [
    "* 解集合不能包含重複的子集."
   ]
  },
  {
   "cell_type": "markdown",
   "metadata": {},
   "source": [
    "# 想法:\n",
    "\n",
    "每次重複一次原有的集合, 但是新增的那一半都多放一個東西\n",
    "以 example 1 為例:\n",
    "\n",
    "一開始是\n",
    "`[[]]`\n",
    "\n",
    "之後變\n",
    "`[[], []]`\n",
    "然後新增的那一個放入第一個元素, 變成\n",
    "`[[], [1]]`\n",
    "\n",
    "接著是變\n",
    "\n",
    "`[[], [1], [], [1]]`\n",
    "\n",
    "然後\n",
    "`[[], [1], [2], [1, 2]]`\n",
    "\n",
    "\n",
    "再來\n",
    "`[[], [1], [2], [1, 2], [], [1], [2], [1, 2]]`\n",
    "\n",
    "最後就變成\n",
    "`[[], [1], [2], [1, 2], [3], [1, 3], [2, 3], [1, 2, 3]]`"
   ]
  },
  {
   "cell_type": "markdown",
   "metadata": {},
   "source": [
    "# Input\n",
    "\n",
    "nums: List of int\n",
    "\n",
    "# Output\n",
    "\n",
    "list of list of int: 冪集"
   ]
  },
  {
   "cell_type": "markdown",
   "metadata": {},
   "source": [
    "# 實作"
   ]
  },
  {
   "cell_type": "markdown",
   "metadata": {},
   "source": [
    "1. 使用 recursion"
   ]
  },
  {
   "cell_type": "code",
   "execution_count": 1,
   "metadata": {},
   "outputs": [],
   "source": [
    "def subsets(nums, buff=None):\n",
    "    if buff is None:\n",
    "        buff = [[]]\n",
    "    if nums:\n",
    "        for i in range(len(buff)):\n",
    "            buff.append(buff[i] + [nums[0]])\n",
    "        return subsets(nums[1:], buff)\n",
    "    else: return buff"
   ]
  },
  {
   "cell_type": "code",
   "execution_count": 2,
   "metadata": {},
   "outputs": [
    {
     "data": {
      "text/plain": [
       "[[], [1], [2], [1, 2], [3], [1, 3], [2, 3], [1, 2, 3]]"
      ]
     },
     "execution_count": 2,
     "metadata": {},
     "output_type": "execute_result"
    }
   ],
   "source": [
    "nums = [1,2,3]\n",
    "\n",
    "subsets(nums)"
   ]
  },
  {
   "cell_type": "markdown",
   "metadata": {},
   "source": [
    "2. 不使用 recursion"
   ]
  },
  {
   "cell_type": "code",
   "execution_count": 3,
   "metadata": {},
   "outputs": [],
   "source": [
    "def subsets(nums):\n",
    "    output = [[]]\n",
    "\n",
    "    for num in nums:\n",
    "        output += [curr + [num] for curr in output]\n",
    "\n",
    "    return output"
   ]
  },
  {
   "cell_type": "code",
   "execution_count": 4,
   "metadata": {},
   "outputs": [
    {
     "data": {
      "text/plain": [
       "[[], [1], [2], [1, 2], [3], [1, 3], [2, 3], [1, 2, 3]]"
      ]
     },
     "execution_count": 4,
     "metadata": {},
     "output_type": "execute_result"
    }
   ],
   "source": [
    "nums = [1,2,3]\n",
    "\n",
    "subsets(nums)"
   ]
  }
 ],
 "metadata": {
  "kernelspec": {
   "display_name": "Python 3",
   "language": "python",
   "name": "python3"
  },
  "language_info": {
   "codemirror_mode": {
    "name": "ipython",
    "version": 3
   },
   "file_extension": ".py",
   "mimetype": "text/x-python",
   "name": "python",
   "nbconvert_exporter": "python",
   "pygments_lexer": "ipython3",
   "version": "3.7.5"
  }
 },
 "nbformat": 4,
 "nbformat_minor": 2
}
