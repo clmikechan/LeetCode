{
 "cells": [
  {
   "cell_type": "markdown",
   "metadata": {},
   "source": [
    "# level: Medium\n",
    "\n",
    "# Description\n",
    "\n",
    "A robot is located at the top-left corner of a m x n grid (marked 'Start' in the diagram below).\n",
    "\n",
    "The robot can only move either down or right at any point in time. The robot is trying to reach the bottom-right corner of the grid (marked 'Finish' in the diagram below).\n",
    "\n",
    "How many possible unique paths are there?"
   ]
  },
  {
   "cell_type": "markdown",
   "metadata": {},
   "source": [
    "一個機器人位於 m * n 盤面之左上角(下方開始處)\n",
    "\n",
    "機器人任何時間都只能往右或往下. 機器人嘗試要到左下角去(下方完成處).\n",
    "\n",
    "有幾種不同的路徑可以走?"
   ]
  },
  {
   "cell_type": "markdown",
   "metadata": {},
   "source": [
    "![ ](https://assets.leetcode.com/uploads/2018/10/22/robot_maze.png)"
   ]
  },
  {
   "cell_type": "markdown",
   "metadata": {},
   "source": [
    "# 想法\n",
    "\n",
    "可以看做是有 `m - 1` 個 `右` 以及 `n - 1` 個 `下`(依據說明) 的不盡相異物排列數. 所以其解即為\n",
    "\n",
    "$\\frac{(m - 1 + n - 1)!}{(m - 1)!(n - 1)!} = \\frac{(m + n - 2)!}{(m - 1)!(n - 1)!}$\n",
    "\n",
    "而因為只有兩種東西, 所以又可以看做是 ${{m + n - 2}\\choose{m - 1}}\\text{ = }{{m + n - 2}\\choose{n - 1}}$"
   ]
  },
  {
   "cell_type": "markdown",
   "metadata": {},
   "source": [
    "# Constraint:\n",
    "\n",
    "* $1 \\le m, n \\le 100$\n",
    "* It's guaranteed that the answer will be less than or equal to $2 \\cdot 10^{9}$."
   ]
  },
  {
   "cell_type": "markdown",
   "metadata": {},
   "source": [
    "* $1 \\le m, n \\le 100$\n",
    "* 解答保證 $\\le 2 \\cdot 10^{9}$."
   ]
  },
  {
   "cell_type": "markdown",
   "metadata": {},
   "source": [
    "# Input\n",
    "\n",
    "m: int\n",
    "n: int\n",
    "\n",
    "# Output\n",
    "\n",
    "int: 相異之走法數"
   ]
  },
  {
   "cell_type": "markdown",
   "metadata": {},
   "source": [
    "# 實作"
   ]
  },
  {
   "cell_type": "code",
   "execution_count": 1,
   "metadata": {},
   "outputs": [],
   "source": [
    "def uniquePaths(m, n):\n",
    "    a = m + n - 2\n",
    "    b = min(m, n) - 1\n",
    "    ret = 1\n",
    "    for i in range(b):\n",
    "        ret *= (a - i)\n",
    "    for i in range(b):\n",
    "        ret //= (i + 1)\n",
    "    return ret"
   ]
  },
  {
   "cell_type": "code",
   "execution_count": 2,
   "metadata": {},
   "outputs": [
    {
     "data": {
      "text/plain": [
       "3"
      ]
     },
     "execution_count": 2,
     "metadata": {},
     "output_type": "execute_result"
    }
   ],
   "source": [
    "m = 3\n",
    "n = 2\n",
    "uniquePaths(m, n)"
   ]
  },
  {
   "cell_type": "code",
   "execution_count": 3,
   "metadata": {},
   "outputs": [
    {
     "data": {
      "text/plain": [
       "28"
      ]
     },
     "execution_count": 3,
     "metadata": {},
     "output_type": "execute_result"
    }
   ],
   "source": [
    "m = 7\n",
    "n = 3\n",
    "uniquePaths(m, n)"
   ]
  }
 ],
 "metadata": {
  "kernelspec": {
   "display_name": "Python 3",
   "language": "python",
   "name": "python3"
  },
  "language_info": {
   "codemirror_mode": {
    "name": "ipython",
    "version": 3
   },
   "file_extension": ".py",
   "mimetype": "text/x-python",
   "name": "python",
   "nbconvert_exporter": "python",
   "pygments_lexer": "ipython3",
   "version": "3.7.5"
  }
 },
 "nbformat": 4,
 "nbformat_minor": 2
}
