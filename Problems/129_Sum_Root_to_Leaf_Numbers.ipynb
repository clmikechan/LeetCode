{
 "cells": [
  {
   "cell_type": "markdown",
   "metadata": {},
   "source": [
    "# level: Medium\n",
    "\n",
    "# Description\n",
    "\n",
    "Given a binary tree containing digits from 0-9 only, each root-to-leaf path could represent a number.\n",
    "\n",
    "An example is the root-to-leaf path `1->2->3` which represents the number 123.\n",
    "\n",
    "Find the total sum of all root-to-leaf numbers."
   ]
  },
  {
   "cell_type": "markdown",
   "metadata": {},
   "source": [
    "給定一棵二元數只包含 0-9 之數字, 每一個從根到葉的路徑代表一個數字.\n",
    "\n",
    "一個例子就是從根到葉之路徑為 `1->2->3` 代表數字 123.\n",
    "\n",
    "找尋所有跟到葉數之和"
   ]
  },
  {
   "cell_type": "markdown",
   "metadata": {},
   "source": [
    "# Note:\n",
    "\n",
    "* A leaf is a node with no children."
   ]
  },
  {
   "cell_type": "markdown",
   "metadata": {},
   "source": [
    "* 葉子是沒有子節點的節點"
   ]
  },
  {
   "cell_type": "markdown",
   "metadata": {},
   "source": [
    "# 想法\n",
    "\n",
    "使用 `DFS` 然後每一個節點都要加上其 parent 的 10 倍."
   ]
  },
  {
   "cell_type": "markdown",
   "metadata": {},
   "source": [
    "# input:\n",
    "\n",
    "root: TreeNode\n",
    "\n",
    "# output:\n",
    "\n",
    "int: 所有跟到葉數之和"
   ]
  },
  {
   "cell_type": "markdown",
   "metadata": {},
   "source": [
    "# 前定義"
   ]
  },
  {
   "cell_type": "code",
   "execution_count": 1,
   "metadata": {},
   "outputs": [],
   "source": [
    "class TreeNode:\n",
    "    def __init__(self, val=0, left=None, right=None):\n",
    "        self.val = val\n",
    "        self.left = left\n",
    "        self.right = right"
   ]
  },
  {
   "cell_type": "markdown",
   "metadata": {},
   "source": [
    "# 主處理函數"
   ]
  },
  {
   "cell_type": "code",
   "execution_count": 2,
   "metadata": {},
   "outputs": [],
   "source": [
    "def sumNumbers(root):\n",
    "    if not root: return 0\n",
    "    ret = 0\n",
    "    buff = [root]\n",
    "    while buff:\n",
    "        while buff[-1].left:\n",
    "            buff[-1].left.val += 10 * buff[-1].val\n",
    "            buff.append(buff[-1].left)\n",
    "\n",
    "        tmp = buff.pop(-1)\n",
    "        while buff and not tmp.right:\n",
    "            if not tmp.left:\n",
    "                ret += tmp.val\n",
    "\n",
    "            tmp = buff.pop(-1)\n",
    "\n",
    "        if tmp.right: \n",
    "            tmp.right.val += 10 * tmp.val\n",
    "            buff.append(tmp.right)\n",
    "        elif not tmp.left:\n",
    "            ret += tmp.val\n",
    "\n",
    "    return ret"
   ]
  },
  {
   "cell_type": "code",
   "execution_count": 3,
   "metadata": {},
   "outputs": [
    {
     "data": {
      "text/plain": [
       "25"
      ]
     },
     "execution_count": 3,
     "metadata": {},
     "output_type": "execute_result"
    }
   ],
   "source": [
    "root = TreeNode(1)\n",
    "root.left = TreeNode(2)\n",
    "root.right = TreeNode(3)\n",
    "sumNumbers(root)"
   ]
  },
  {
   "cell_type": "code",
   "execution_count": 4,
   "metadata": {},
   "outputs": [
    {
     "data": {
      "text/plain": [
       "1026"
      ]
     },
     "execution_count": 4,
     "metadata": {},
     "output_type": "execute_result"
    }
   ],
   "source": [
    "root = TreeNode(4)\n",
    "root.left = TreeNode(9)\n",
    "root.right = TreeNode(0)\n",
    "root.left.left = TreeNode(5)\n",
    "root.left.right = TreeNode(1)\n",
    "sumNumbers(root)"
   ]
  }
 ],
 "metadata": {
  "kernelspec": {
   "display_name": "Python 3",
   "language": "python",
   "name": "python3"
  },
  "language_info": {
   "codemirror_mode": {
    "name": "ipython",
    "version": 3
   },
   "file_extension": ".py",
   "mimetype": "text/x-python",
   "name": "python",
   "nbconvert_exporter": "python",
   "pygments_lexer": "ipython3",
   "version": "3.7.5"
  }
 },
 "nbformat": 4,
 "nbformat_minor": 2
}
