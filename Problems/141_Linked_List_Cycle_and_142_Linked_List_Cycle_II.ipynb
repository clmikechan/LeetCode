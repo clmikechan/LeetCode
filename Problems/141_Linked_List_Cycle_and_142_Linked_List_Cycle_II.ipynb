{
 "cells": [
  {
   "cell_type": "markdown",
   "metadata": {},
   "source": [
    "# 141"
   ]
  },
  {
   "cell_type": "markdown",
   "metadata": {},
   "source": [
    "# level: Easy\n",
    "\n",
    "# Description\n",
    "\n",
    "Given a linked list, determine if it has a cycle in it.\n",
    "\n",
    "To represent a cycle in the given linked list, we use an integer pos which represents the position (0-indexed) in the linked list where tail connects to. If pos is -1, then there is no cycle in the linked list."
   ]
  },
  {
   "cell_type": "markdown",
   "metadata": {},
   "source": [
    "給定一個連結串列, 判斷是否有循環\n",
    "\n",
    "為了要表達有循環, 使用整數 `pos` 代表(從 0 開始的)索引表示尾巴連接處. 如果 `pos = -1` 表示沒有循環"
   ]
  },
  {
   "cell_type": "markdown",
   "metadata": {},
   "source": [
    "# Follow up\n",
    "\n",
    "* Can you solve it using O(1) (i.e. constant) memory?"
   ]
  },
  {
   "cell_type": "markdown",
   "metadata": {},
   "source": [
    "* 能否使用 $O(1)$(即常數)的記憶體需求來解?"
   ]
  },
  {
   "cell_type": "markdown",
   "metadata": {},
   "source": [
    "# 142"
   ]
  },
  {
   "cell_type": "markdown",
   "metadata": {},
   "source": [
    "# level: Medium\n",
    "\n",
    "# Description\n",
    "\n",
    "Given a linked list, return the node where the cycle begins. If there is no cycle, return null.\n",
    "\n",
    "To represent a cycle in the given linked list, we use an integer pos which represents the position (0-indexed) in the linked list where tail connects to. If pos is -1, then there is no cycle in the linked list."
   ]
  },
  {
   "cell_type": "markdown",
   "metadata": {},
   "source": [
    "給定連結串列, 找出循環的起點. 如果沒有循環, 回傳值為空\n",
    "\n",
    "為了要表達有循環, 使用整數 pos 代表(從 0 開始的)索引表示尾巴連接處. 如果 pos = -1 表示沒有循環"
   ]
  },
  {
   "cell_type": "markdown",
   "metadata": {},
   "source": [
    "# Follow-up\n",
    "\n",
    "* Can you solve it without using extra space?"
   ]
  },
  {
   "cell_type": "markdown",
   "metadata": {},
   "source": [
    "* 能否不使用額外記憶體來解?"
   ]
  },
  {
   "cell_type": "markdown",
   "metadata": {},
   "source": [
    "# 想法\n",
    "\n",
    "這兩題可以看作是一個題組, 所以一起解\n",
    "\n",
    "典型的循環檢定題目, 有做過的大概馬上就能解出來, 但是沒見過此類題目的大概不太會知道要怎麼做\n",
    "\n",
    "假設有循環並且串列在進入循環之前之長度為 $c$, 循環內的週期為 $P$\n",
    "\n",
    "現在有兩個指標 $f$(fast) 以及 $s$(slow)\n",
    "$f$ 每單位時間移動兩個; $s$ 每單位時間則只移動一格\n",
    "因此在 $t$ 時兩者走之步數差為 $t$. 由此可知存在 $n$ 滿足 $P|n$ 並且 $n \\ge c + P$, 使得當時間為 $n + mP, \\forall m \\ge 0$ 時, 兩者位置會重疊\n",
    "\n",
    "兩者皆從起點出發. 假設在 $T$ 時兩者重逢\n",
    "\n",
    "$f$ 走了 $2T$ 格, 而 $s$ 走了 $T$ 格.\n",
    "\n",
    "因為兩者重逢, 所以所走之隔數差必定為 $P$ 之倍數. 意即, 存在二整數 $a, b$ 其中 $a < b$, 以及另一整數 $x$ 滿足 $0 \\le x < P$ 使得:\n",
    "\n",
    "$$\n",
    "T = c + aP + x\\\\\n",
    "2T = c + bP + x\n",
    "$$\n",
    "\n",
    "又:\n",
    "\n",
    "$2T = 2(c + aP + x) = c + bP + x$\n",
    "\n",
    "可得\n",
    "\n",
    "$x = (b - 2a)P - c$\n",
    "\n",
    "因此:\n",
    "\n",
    "$$\n",
    "2T + c\\\\\n",
    "=c + bP + x + c\\\\\n",
    "= c + bP + (b - 2a)P - c + c\\\\\n",
    "= c + 2(b - a)P$$\n",
    "\n",
    "也就是說, 在 $f$ 以及 $s$ 相遇時, 只要再走 $c$ 步, 即會回到循環開始處. 換句話說, 當兩者相遇時, 將其中一者移回起點, 改讓二者以每單位時間走一格之速度移動. 則兩者會在循環開始處相遇\n",
    "\n",
    "以上就是所謂的 `Floyd's cycle-finding algorithm`[[1]]. 懶得看英文的可以參考[[2]].\n",
    "\n",
    "\n",
    "[1]: https://en.wikipedia.org/wiki/Cycle_detection#Floyd's_Tortoise_and_Hare \"維基百科\"\n",
    "[2]: http://www.csie.ntnu.edu.tw/~u91029/Function.html#4"
   ]
  },
  {
   "cell_type": "markdown",
   "metadata": {},
   "source": [
    "# Input\n",
    "\n",
    "head: ListNode\n",
    "\n",
    "# Output\n",
    "\n",
    "## 141.\n",
    "\n",
    "boolean: 是否有迴圈\n",
    "\n",
    "## 142.\n",
    "\n",
    "ListNode: 迴圈之起點"
   ]
  },
  {
   "cell_type": "markdown",
   "metadata": {},
   "source": [
    "# 前定義"
   ]
  },
  {
   "cell_type": "code",
   "execution_count": 1,
   "metadata": {},
   "outputs": [],
   "source": [
    "class ListNode:\n",
    "    def __init__(self, x):\n",
    "        self.val = x\n",
    "        self.next = None"
   ]
  },
  {
   "cell_type": "markdown",
   "metadata": {},
   "source": [
    "# 141 主處理函數"
   ]
  },
  {
   "cell_type": "code",
   "execution_count": 2,
   "metadata": {},
   "outputs": [],
   "source": [
    "def hasCycle(head):\n",
    "        if not head: return False\n",
    "        f = head.next\n",
    "        s = head.next\n",
    "        if f:\n",
    "            f = f.next\n",
    "        else:\n",
    "            return False\n",
    "        while f and f != s:\n",
    "            f = f.next\n",
    "            s = s.next\n",
    "            if f:\n",
    "                f = f.next\n",
    "            else:\n",
    "                return False\n",
    "        if not f:\n",
    "            return False\n",
    "        return True"
   ]
  },
  {
   "cell_type": "markdown",
   "metadata": {},
   "source": [
    "# 142 主處理函數"
   ]
  },
  {
   "cell_type": "code",
   "execution_count": 3,
   "metadata": {},
   "outputs": [],
   "source": [
    "def detectCycle(head):\n",
    "    if not head: return None\n",
    "    f = head.next\n",
    "    s = head.next\n",
    "    if f:\n",
    "        f = f.next\n",
    "    else:\n",
    "        return None\n",
    "    while f and f != s:\n",
    "        f = f.next\n",
    "        s = s.next\n",
    "        if f:\n",
    "            f = f.next\n",
    "        else:\n",
    "            return None\n",
    "    if not f:\n",
    "        return None\n",
    "    s = head\n",
    "    while f != s:\n",
    "        f = f.next\n",
    "        s = s.next\n",
    "\n",
    "    return f"
   ]
  },
  {
   "cell_type": "code",
   "execution_count": 4,
   "metadata": {},
   "outputs": [
    {
     "data": {
      "text/plain": [
       "(True, 2)"
      ]
     },
     "execution_count": 4,
     "metadata": {},
     "output_type": "execute_result"
    }
   ],
   "source": [
    "head = ListNode(3)\n",
    "head.next = ListNode(2)\n",
    "head.next.next = ListNode(0)\n",
    "head.next.next.next = ListNode(4)\n",
    "head.next.next.next.next = head.next\n",
    "\n",
    "hasCycle(head), detectCycle(head).val"
   ]
  },
  {
   "cell_type": "code",
   "execution_count": 5,
   "metadata": {},
   "outputs": [
    {
     "data": {
      "text/plain": [
       "(True, 1)"
      ]
     },
     "execution_count": 5,
     "metadata": {},
     "output_type": "execute_result"
    }
   ],
   "source": [
    "head = ListNode(1)\n",
    "head.next = ListNode(2)\n",
    "head.next.next = head\n",
    "\n",
    "hasCycle(head), detectCycle(head).val"
   ]
  },
  {
   "cell_type": "code",
   "execution_count": 6,
   "metadata": {},
   "outputs": [
    {
     "data": {
      "text/plain": [
       "(False, True)"
      ]
     },
     "execution_count": 6,
     "metadata": {},
     "output_type": "execute_result"
    }
   ],
   "source": [
    "head = ListNode(1)\n",
    "\n",
    "hasCycle(head), detectCycle(head) is None"
   ]
  }
 ],
 "metadata": {
  "kernelspec": {
   "display_name": "Python 3",
   "language": "python",
   "name": "python3"
  },
  "language_info": {
   "codemirror_mode": {
    "name": "ipython",
    "version": 3
   },
   "file_extension": ".py",
   "mimetype": "text/x-python",
   "name": "python",
   "nbconvert_exporter": "python",
   "pygments_lexer": "ipython3",
   "version": "3.7.5"
  }
 },
 "nbformat": 4,
 "nbformat_minor": 2
}
