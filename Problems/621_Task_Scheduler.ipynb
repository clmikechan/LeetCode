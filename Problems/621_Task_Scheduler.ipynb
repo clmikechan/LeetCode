{
 "cells": [
  {
   "cell_type": "markdown",
   "metadata": {},
   "source": [
    "# level: Medium\n",
    "\n",
    "# Description\n",
    "\n",
    "You are given a char array representing tasks CPU need to do. It contains capital letters A to Z where each letter represents a different task. Tasks could be done without the original order of the array. Each task is done in one unit of time. For each unit of time, the CPU could complete either one task or just be idle.\n",
    "\n",
    "However, there is a non-negative integer n that represents the cooldown period between two same tasks (the same letter in the array), that is that there must be at least n units of time between any two same tasks.\n",
    "\n",
    "You need to return the least number of units of times that the CPU will take to finish all the given tasks."
   ]
  },
  {
   "cell_type": "markdown",
   "metadata": {},
   "source": [
    "給定字元陣列代表 CPU 要處理之任務清單. 包含從 $A$ 到 $Z$ 之大寫字母表示不同的任務. 任務之處理可以不按照初始之清單順序. 每一個任務花費一單位時間. 每一個單位時間, CPU 可以處理一個任務或著發呆.\n",
    "\n",
    "然而, 存在一非負整數 $n$ 代表相同任務(陣列中相同之字母)之間的冷卻時間, 也就是說, 處理兩個相同的任務之間必須間隔至少 $n$ 單位時間.\n",
    "\n",
    "找出要完成所有任務的最少所需時間."
   ]
  },
  {
   "cell_type": "markdown",
   "metadata": {},
   "source": [
    "# Constraints:\n",
    "\n",
    "* The number of tasks is in the range $[1, 10000]$.\n",
    "* The integer $n$ is in the range $[0, 100]$."
   ]
  },
  {
   "cell_type": "markdown",
   "metadata": {},
   "source": [
    "* 任務數在區間 $[1, 10000]$ 之間.\n",
    "* 整數 $n$ 在區間 $[0, 100]$ 之間"
   ]
  },
  {
   "cell_type": "markdown",
   "metadata": {},
   "source": [
    "# 想法\n",
    "\n",
    "1. 最少所需時間必定大於陣列長度\n",
    "\n",
    "2. 對於每一種任務, 如果期出現次數為 $m$, 則從第一次處理該任務起, 到處理完所有的同一任務為止, 最少所需時間是:\n",
    "$A,...,A,...,A$. 也就是\n",
    "$(m - 1) * (n + 1) + 1$.\n",
    "所以假設單一任務出現最多次數為 $x$, 總時常至少為 $(m - 1) * (n + 1) + 1$.\n",
    "\n",
    "3. 承 2., 如果兩個任務同樣出現最多次 x, 則至少要\n",
    "$A,B,...A,B,...A,B$. 也就是 \n",
    "$(m - 1) * (n + 1) + 1 + 1$."
   ]
  },
  {
   "cell_type": "markdown",
   "metadata": {},
   "source": [
    "# Input\n",
    "\n",
    "tasks: List of str\n",
    "n: int\n",
    "\n",
    "# Output\n",
    "int: 最少所需時間"
   ]
  },
  {
   "cell_type": "markdown",
   "metadata": {},
   "source": [
    "# 實作"
   ]
  },
  {
   "cell_type": "code",
   "execution_count": 1,
   "metadata": {},
   "outputs": [],
   "source": [
    "def leastInterval(tasks, n):\n",
    "    if n == 0: return len(tasks)\n",
    "    buff = {}\n",
    "    most = 0\n",
    "    more = 0\n",
    "    for x in tasks:\n",
    "        buff[x] = buff.get(x, 0) + 1\n",
    "        if buff[x] > most:\n",
    "            most = buff[x]\n",
    "            more = 0\n",
    "        elif buff[x] == most:\n",
    "            more += 1\n",
    "    return max((most - 1) * (n + 1) + 1 + more, len(tasks))"
   ]
  },
  {
   "cell_type": "code",
   "execution_count": 2,
   "metadata": {},
   "outputs": [
    {
     "data": {
      "text/plain": [
       "8"
      ]
     },
     "execution_count": 2,
     "metadata": {},
     "output_type": "execute_result"
    }
   ],
   "source": [
    "tasks = [\"A\",\"A\",\"A\",\"B\",\"B\",\"B\"]\n",
    "n = 2\n",
    "leastInterval(tasks, n)"
   ]
  },
  {
   "cell_type": "code",
   "execution_count": 3,
   "metadata": {},
   "outputs": [
    {
     "data": {
      "text/plain": [
       "6"
      ]
     },
     "execution_count": 3,
     "metadata": {},
     "output_type": "execute_result"
    }
   ],
   "source": [
    "tasks = [\"A\",\"A\",\"A\",\"B\",\"B\",\"B\"]\n",
    "n = 0\n",
    "leastInterval(tasks, n)"
   ]
  },
  {
   "cell_type": "code",
   "execution_count": 4,
   "metadata": {},
   "outputs": [
    {
     "data": {
      "text/plain": [
       "16"
      ]
     },
     "execution_count": 4,
     "metadata": {},
     "output_type": "execute_result"
    }
   ],
   "source": [
    "tasks = [\"A\",\"A\",\"A\",\"A\",\"A\",\"A\",\"B\",\"C\",\"D\",\"E\",\"F\",\"G\"]\n",
    "n = 2\n",
    "leastInterval(tasks, n)"
   ]
  }
 ],
 "metadata": {
  "kernelspec": {
   "display_name": "Python 3",
   "language": "python",
   "name": "python3"
  },
  "language_info": {
   "codemirror_mode": {
    "name": "ipython",
    "version": 3
   },
   "file_extension": ".py",
   "mimetype": "text/x-python",
   "name": "python",
   "nbconvert_exporter": "python",
   "pygments_lexer": "ipython3",
   "version": "3.7.5"
  }
 },
 "nbformat": 4,
 "nbformat_minor": 2
}
