{
 "cells": [
  {
   "cell_type": "markdown",
   "metadata": {},
   "source": [
    "# level: Medium\n",
    "\n",
    "# Description\n",
    "\n",
    "You are given a doubly linked list which in addition to the next and previous pointers, it could have a child pointer, which may or may not point to a separate doubly linked list. These child lists may have one or more children of their own, and so on, to produce a multilevel data structure, as shown in the example below.\n",
    "\n",
    "Flatten the list so that all the nodes appear in a single-level, doubly linked list. You are given the head of the first level of the list."
   ]
  },
  {
   "cell_type": "markdown",
   "metadata": {},
   "source": [
    "給定一個雙向連結串列, 除了 `next` 以及 `previous` 外, 還多了一個 `child` 指針, 可以指向另外一個連結串列. 子串列也可以有一個或多個子串列, 形成一個多層資料結構, 如下圖所示.\n",
    "\n",
    "扁平化這個列表使其成為單層雙向連結串列. 傳入參數為第一層的頭."
   ]
  },
  {
   "cell_type": "markdown",
   "metadata": {},
   "source": [
    "![below](https://assets.leetcode.com/uploads/2018/10/12/multilevellinkedlist.png)"
   ]
  },
  {
   "cell_type": "markdown",
   "metadata": {},
   "source": [
    "# Constraints:\n",
    "\n",
    "* Number of Nodes will not exceed $1000$.\n",
    "* $1 \\le \\text{Node.val} \\le 10^5$"
   ]
  },
  {
   "cell_type": "markdown",
   "metadata": {},
   "source": [
    "* 結點數量不超過 $1000$.\n",
    "* $1 \\le \\text{Node.val} \\le 10^5$"
   ]
  },
  {
   "cell_type": "markdown",
   "metadata": {},
   "source": [
    "# 想法\n",
    "\n",
    "看起來很複雜, 其實換一個角度來看就很像是二元樹, 直接使用 DFS 就可以解決了."
   ]
  },
  {
   "cell_type": "markdown",
   "metadata": {},
   "source": [
    "# Input\n",
    "\n",
    "head: Node\n",
    "\n",
    "# Output:\n",
    "\n",
    "Node: 修改後之串列的起點"
   ]
  },
  {
   "cell_type": "markdown",
   "metadata": {},
   "source": [
    "# 實作"
   ]
  },
  {
   "cell_type": "code",
   "execution_count": 1,
   "metadata": {},
   "outputs": [],
   "source": [
    "from predefinitions import Node\n",
    "\n",
    "def flatten(head):\n",
    "    if not head: return head\n",
    "    buff = []\n",
    "    cur = head\n",
    "    while True:\n",
    "        while cur.child:\n",
    "            if cur.next:\n",
    "                buff.append(cur.next)\n",
    "            cur.next = cur.child\n",
    "            cur.next.prev = cur\n",
    "            cur.child = None\n",
    "            cur = cur.next\n",
    "        else:\n",
    "            if cur.next:\n",
    "                cur = cur.next\n",
    "            else:\n",
    "                if buff:\n",
    "                    cur.next = buff.pop(-1)\n",
    "                    cur.next.prev = cur\n",
    "                    cur = cur.next\n",
    "                else: return head"
   ]
  },
  {
   "cell_type": "code",
   "execution_count": 2,
   "metadata": {},
   "outputs": [
    {
     "name": "stdout",
     "output_type": "stream",
     "text": [
      "1\n",
      "2\n",
      "3\n",
      "7\n",
      "8\n",
      "11\n",
      "12\n",
      "9\n",
      "10\n",
      "4\n",
      "5\n",
      "6\n"
     ]
    }
   ],
   "source": [
    "head = Node(1, None, None, None)\n",
    "head.next = Node(2, head, None, None)\n",
    "head.next.next = Node(3, head.next, None, None)\n",
    "head.next.next.next = Node(4, head.next.next, None, None)\n",
    "head.next.next.next.next = Node(5, head.next.next.next, None, None)\n",
    "head.next.next.next.next.next = Node(6, head.next.next.next.next, None, None)\n",
    "\n",
    "head.next.next.child = Node(7, None, None, None)\n",
    "head.next.next.child.next = Node(8, head.next.next.child, None, None)\n",
    "head.next.next.child.next.next = Node(9, head.next.next.child.next, None, None)\n",
    "head.next.next.child.next.next.next = Node(10, head.next.next.child.next.next, None, None)\n",
    "\n",
    "head.next.next.child.next.child = Node(11, None, None, None)\n",
    "head.next.next.child.next.child.next = Node(12, head.next.next.child.next.child, None, None)\n",
    "\n",
    "ans = flatten(head)\n",
    "while ans:\n",
    "    assert ans.child is None\n",
    "    print(ans.val)\n",
    "    ans = ans.next"
   ]
  },
  {
   "cell_type": "code",
   "execution_count": 3,
   "metadata": {},
   "outputs": [
    {
     "name": "stdout",
     "output_type": "stream",
     "text": [
      "1\n",
      "3\n",
      "2\n"
     ]
    }
   ],
   "source": [
    "head = Node(1, None, None, None)\n",
    "head.next = Node(2, head, None, None)\n",
    "\n",
    "head.child = Node(3, None, None, None)\n",
    "\n",
    "ans = flatten(head)\n",
    "while ans:\n",
    "    assert ans.child is None\n",
    "    print(ans.val)\n",
    "    ans = ans.next"
   ]
  },
  {
   "cell_type": "code",
   "execution_count": 4,
   "metadata": {},
   "outputs": [],
   "source": [
    "head = None\n",
    "\n",
    "ans = flatten(head)\n",
    "while ans:\n",
    "    assert ans.child is None\n",
    "    print(ans.val)\n",
    "    ans = ans.next"
   ]
  },
  {
   "cell_type": "markdown",
   "metadata": {},
   "source": [
    "# 可以跟 114 比較"
   ]
  },
  {
   "cell_type": "markdown",
   "metadata": {},
   "source": [
    "# level: Medium\n",
    "\n",
    "# Description\n",
    "\n",
    "Given a binary tree, flatten it to a linked list in-place."
   ]
  },
  {
   "cell_type": "markdown",
   "metadata": {},
   "source": [
    "給定一棵二元樹, 將其原地扁平成連結串列"
   ]
  },
  {
   "cell_type": "markdown",
   "metadata": {},
   "source": [
    "# Input\n",
    "\n",
    "root: TreeNode\n",
    "\n",
    "# Output\n",
    "\n",
    "None"
   ]
  },
  {
   "cell_type": "markdown",
   "metadata": {},
   "source": [
    "# 實作"
   ]
  },
  {
   "cell_type": "code",
   "execution_count": 5,
   "metadata": {},
   "outputs": [],
   "source": [
    "from predefinitions import TreeNode\n",
    "\n",
    "def flatten(root):\n",
    "    \"\"\"\n",
    "    Do not return anything, modify root in-place instead.\n",
    "    \"\"\"\n",
    "    if not root: return\n",
    "    buff = []\n",
    "    cur = root\n",
    "    while True:\n",
    "        while cur.left:\n",
    "            if cur.right:\n",
    "                buff.append(cur.right)\n",
    "            cur.right = cur.left\n",
    "            cur.left = None\n",
    "            cur = cur.right\n",
    "        else:\n",
    "            if cur.right:\n",
    "                cur = cur.right\n",
    "            else:\n",
    "                if buff:\n",
    "                    cur.right = buff.pop(-1)\n",
    "                    cur = cur.right\n",
    "                else: return"
   ]
  },
  {
   "cell_type": "code",
   "execution_count": 6,
   "metadata": {},
   "outputs": [
    {
     "name": "stdout",
     "output_type": "stream",
     "text": [
      "1\n",
      "2\n",
      "3\n",
      "4\n",
      "5\n",
      "6\n"
     ]
    }
   ],
   "source": [
    "root = TreeNode(1)\n",
    "\n",
    "root.left = TreeNode(2)\n",
    "root.right = TreeNode(5)\n",
    "\n",
    "root.left.left = TreeNode(3)\n",
    "root.left.right = TreeNode(4)\n",
    "\n",
    "root.right.right = TreeNode(6)\n",
    "\n",
    "flatten(root)\n",
    "\n",
    "while root:\n",
    "    assert root.left is None\n",
    "    print(root.val)\n",
    "    root = root.right"
   ]
  }
 ],
 "metadata": {
  "kernelspec": {
   "display_name": "Python 3",
   "language": "python",
   "name": "python3"
  },
  "language_info": {
   "codemirror_mode": {
    "name": "ipython",
    "version": 3
   },
   "file_extension": ".py",
   "mimetype": "text/x-python",
   "name": "python",
   "nbconvert_exporter": "python",
   "pygments_lexer": "ipython3",
   "version": "3.7.5"
  }
 },
 "nbformat": 4,
 "nbformat_minor": 2
}
