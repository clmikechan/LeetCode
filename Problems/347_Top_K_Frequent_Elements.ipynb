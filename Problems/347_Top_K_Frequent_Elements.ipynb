{
 "cells": [
  {
   "cell_type": "markdown",
   "metadata": {},
   "source": [
    "# level: Medium\n",
    "\n",
    "# Description\n",
    "\n",
    "Given a non-empty array of integers, return the k most frequent elements."
   ]
  },
  {
   "cell_type": "markdown",
   "metadata": {},
   "source": [
    "給定一個非空的整數陣列, 回傳前 `k` 多的元素"
   ]
  },
  {
   "cell_type": "markdown",
   "metadata": {},
   "source": [
    "# Note:\n",
    "\n",
    "* You may assume $k$ is always valid, $1 \\le k \\le \\text{number of unique elements}$.\n",
    "* Your algorithm's time complexity must be better than $\\Theta(n\\log n)$, where $n$ is the array's size.\n",
    "* It's guaranteed that the answer is unique, in other words the set of the top $k$ frequent elements is unique.\n",
    "* You can return the answer in any order."
   ]
  },
  {
   "cell_type": "markdown",
   "metadata": {},
   "source": [
    "* 可以假定 $k$ 永遠是有效的, $1 \\le 𝑘 \\le \\text{相異元素數}$.\n",
    "* 演算法必須要有比 $\\Theta(n\\log n)$ 還好的時間複雜度, $n$ 為陣列大小.\n",
    "* 答案保證是唯一的, 也就是說, 前 $k$ 多的元素是唯一的. \n",
    "* 答案可以是任何順序"
   ]
  },
  {
   "cell_type": "markdown",
   "metadata": {},
   "source": [
    "# 想法\n",
    "\n",
    "先將所有元素按照出現頻率排序, 依照給定的關鍵字, $\\Theta(n\\log n)$, 可以找到一種演算法: [合併排序]\n",
    "\n",
    "\n",
    "[合併排序]: https://zh.wikipedia.org/wiki/%E5%90%88%E4%BD%B5%E6%8E%92%E5%BA%8F#Python3"
   ]
  },
  {
   "cell_type": "markdown",
   "metadata": {},
   "source": [
    "# Input\n",
    "nums: List of int\n",
    "k: int\n",
    "\n",
    "# Output\n",
    "\n",
    "List of int"
   ]
  },
  {
   "cell_type": "markdown",
   "metadata": {},
   "source": [
    "# 前處理函數 "
   ]
  },
  {
   "cell_type": "code",
   "execution_count": 1,
   "metadata": {},
   "outputs": [],
   "source": [
    "def mergeSort(nums):\n",
    "    if len(nums) < 2:\n",
    "        return nums\n",
    "    mid = len(nums) // 2\n",
    "    left = mergeSort(nums[:mid])\n",
    "    right = mergeSort(nums[mid:])\n",
    "    result = []\n",
    "    while left and right:\n",
    "        # 因為取大的, 改成判斷 >, 另外第 1 個位置為排序依據\n",
    "        if left[0][1] > right[0][1]:\n",
    "            result.append(left.pop(0))\n",
    "        else:\n",
    "            result.append(right.pop(0))\n",
    "    if left:\n",
    "        result += left\n",
    "    if right:\n",
    "        result += right\n",
    "    return result"
   ]
  },
  {
   "cell_type": "markdown",
   "metadata": {},
   "source": [
    "# 主處理函數"
   ]
  },
  {
   "cell_type": "code",
   "execution_count": 2,
   "metadata": {},
   "outputs": [],
   "source": [
    "def topKFrequent(nums, k):\n",
    "    step1 = {}\n",
    "    for x in nums:\n",
    "        step1[x] = step1.get(x, 0) + 1\n",
    "\n",
    "    step2 = mergeSort([(x, step1[x]) for x in step1])\n",
    "    return [x[0] for x in step2[:k]]"
   ]
  },
  {
   "cell_type": "code",
   "execution_count": 3,
   "metadata": {},
   "outputs": [
    {
     "data": {
      "text/plain": [
       "[1, 2]"
      ]
     },
     "execution_count": 3,
     "metadata": {},
     "output_type": "execute_result"
    }
   ],
   "source": [
    "nums = [1,1,1,2,2,3]\n",
    "k = 2\n",
    "\n",
    "topKFrequent(nums, k)"
   ]
  },
  {
   "cell_type": "code",
   "execution_count": 4,
   "metadata": {},
   "outputs": [
    {
     "data": {
      "text/plain": [
       "[1]"
      ]
     },
     "execution_count": 4,
     "metadata": {},
     "output_type": "execute_result"
    }
   ],
   "source": [
    "nums = [1]\n",
    "k = 1\n",
    "\n",
    "topKFrequent(nums, k)"
   ]
  }
 ],
 "metadata": {
  "kernelspec": {
   "display_name": "Python 3",
   "language": "python",
   "name": "python3"
  },
  "language_info": {
   "codemirror_mode": {
    "name": "ipython",
    "version": 3
   },
   "file_extension": ".py",
   "mimetype": "text/x-python",
   "name": "python",
   "nbconvert_exporter": "python",
   "pygments_lexer": "ipython3",
   "version": "3.7.5"
  }
 },
 "nbformat": 4,
 "nbformat_minor": 2
}
