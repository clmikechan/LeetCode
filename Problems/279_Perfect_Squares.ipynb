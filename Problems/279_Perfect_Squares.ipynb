{
 "cells": [
  {
   "cell_type": "markdown",
   "metadata": {},
   "source": [
    "# level: Medium\n",
    "\n",
    "# Description\n",
    "\n",
    "Given a positive integer n, find the least number of perfect square numbers (for example, 1, 4, 9, 16, ...) which sum to n."
   ]
  },
  {
   "cell_type": "markdown",
   "metadata": {},
   "source": [
    "給定正整數 n, 找到最少所需之平方數(舉例來說 1, 4, 9, 16)個數其和為 n."
   ]
  },
  {
   "cell_type": "markdown",
   "metadata": {},
   "source": [
    "# 想法\n",
    "\n",
    "一開始打算用 DFS 來做, 但是一直卡在不知道要怎麼寫停止繼續找下去之判斷式.\n",
    "\n",
    "後來一次測試跑到 $10^{6}$ 結果發現最多都只有 4.\n",
    "\n",
    "查維基百科發現有[四平方和定理]這個結論.\n",
    "\n",
    "所以就索性設定最多只跑三層迴圈, 三層迴圈跑不出來就回傳 4\n",
    "\n",
    "\n",
    "[四平方和定理]: https://zh.wikipedia.org/wiki/%E5%9B%9B%E5%B9%B3%E6%96%B9%E5%92%8C%E5%AE%9A%E7%90%86"
   ]
  },
  {
   "cell_type": "markdown",
   "metadata": {},
   "source": [
    "# Input\n",
    "\n",
    "n: integer\n",
    "\n",
    "# Output\n",
    "\n",
    "int: minimum number of perfect square numbers which sum to n"
   ]
  },
  {
   "cell_type": "markdown",
   "metadata": {},
   "source": [
    "# 實作"
   ]
  },
  {
   "cell_type": "code",
   "execution_count": 1,
   "metadata": {},
   "outputs": [],
   "source": [
    "def numSquares(n):\n",
    "    if n == 0: return 0\n",
    "    maxn = int(n ** 0.5)\n",
    "    if n == maxn ** 2: return 1\n",
    "    res = []\n",
    "\n",
    "    for i in range(maxn, 0, -1):\n",
    "        tmp = n - i ** 2\n",
    "        m = int(tmp ** 0.5)\n",
    "        if tmp == m ** 2: return 2\n",
    "        res.append(tmp)\n",
    "\n",
    "    while res:\n",
    "        cur = res.pop()\n",
    "        maxn = int(cur ** 0.5)\n",
    "        for i in range(maxn, 0, -1):\n",
    "            tmp = cur - i ** 2\n",
    "            m = int(tmp ** 0.5)\n",
    "            if tmp == m ** 2: return 3\n",
    "\n",
    "    return 4"
   ]
  },
  {
   "cell_type": "code",
   "execution_count": 2,
   "metadata": {},
   "outputs": [
    {
     "data": {
      "text/plain": [
       "3"
      ]
     },
     "execution_count": 2,
     "metadata": {},
     "output_type": "execute_result"
    }
   ],
   "source": [
    "n = 12\n",
    "numSquares(n)"
   ]
  },
  {
   "cell_type": "code",
   "execution_count": 3,
   "metadata": {},
   "outputs": [
    {
     "data": {
      "text/plain": [
       "2"
      ]
     },
     "execution_count": 3,
     "metadata": {},
     "output_type": "execute_result"
    }
   ],
   "source": [
    "n = 13\n",
    "numSquares(n)"
   ]
  }
 ],
 "metadata": {
  "kernelspec": {
   "display_name": "Python 3",
   "language": "python",
   "name": "python3"
  },
  "language_info": {
   "codemirror_mode": {
    "name": "ipython",
    "version": 3
   },
   "file_extension": ".py",
   "mimetype": "text/x-python",
   "name": "python",
   "nbconvert_exporter": "python",
   "pygments_lexer": "ipython3",
   "version": "3.7.5"
  }
 },
 "nbformat": 4,
 "nbformat_minor": 2
}
