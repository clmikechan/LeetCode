{
 "cells": [
  {
   "cell_type": "markdown",
   "metadata": {},
   "source": [
    "# level: Easy\n",
    "\n",
    "# Description\n",
    "\n",
    "Reverse bits of a given 32 bits unsigned integer"
   ]
  },
  {
   "cell_type": "markdown",
   "metadata": {},
   "source": [
    "給定一個 32 位元無正負號整數, 將其位元反轉"
   ]
  },
  {
   "cell_type": "markdown",
   "metadata": {},
   "source": [
    "# Note:\n",
    "\n",
    "* Note that in some languages such as Java, there is no unsigned integer type. In this case, both input and output will be given as signed integer type and should not affect your implementation, as the internal binary representation of the integer is the same whether it is signed or unsigned.\n",
    "\n",
    "* In Java, the compiler represents the signed integers using 2's complement notation. Therefore, in Example 2 above the input represents the signed integer -3 and the output represents the signed integer -1073741825."
   ]
  },
  {
   "cell_type": "markdown",
   "metadata": {},
   "source": [
    "* 在某些語言, 比如說 `Java`, 沒有無正負號整數這種型別. 在這些案例中, 將輸入以及輸出同時換做有正負號之整數應該不會影響實作, 因為內在的二進位表示法不會受到是否有正負號影響.\n",
    "\n",
    "* 對於 `Java` 來說, 編譯器表示的的有正負號整數使用 `2` 的補述表示. 因此, 在案例二輸入表示為 `-3` 而輸出表示為 `-1073741825`"
   ]
  },
  {
   "cell_type": "markdown",
   "metadata": {},
   "source": [
    "# Follow up:\n",
    "\n",
    "* If this function is called many times, how would you optimize it?"
   ]
  },
  {
   "cell_type": "markdown",
   "metadata": {},
   "source": [
    "* 如果函數要被多次呼叫, 如何優化?"
   ]
  },
  {
   "cell_type": "markdown",
   "metadata": {},
   "source": [
    "# 想法\n",
    "\n",
    "最簡單的做法就是一個位元一個位元的處理, 因為已經限定是 `32` 位元無正負號整數, 任何輸入值都只要跑一個 `32` 次之迴圈即可出來"
   ]
  },
  {
   "cell_type": "markdown",
   "metadata": {},
   "source": [
    "# Input\n",
    "\n",
    "n: int\n",
    "\n",
    "# Output\n",
    "\n",
    "int: 反轉後之結果"
   ]
  },
  {
   "cell_type": "markdown",
   "metadata": {},
   "source": [
    "# 實作"
   ]
  },
  {
   "cell_type": "code",
   "execution_count": 1,
   "metadata": {},
   "outputs": [],
   "source": [
    "def reverseBits(n):\n",
    "    ret = 0\n",
    "    for _ in range(32):\n",
    "        ret = (ret << 1) + (n & 1)\n",
    "        n >>= 1\n",
    "    return ret"
   ]
  },
  {
   "cell_type": "code",
   "execution_count": 2,
   "metadata": {},
   "outputs": [
    {
     "data": {
      "text/plain": [
       "964176192"
      ]
     },
     "execution_count": 2,
     "metadata": {},
     "output_type": "execute_result"
    }
   ],
   "source": [
    "n = 0b00000010100101000001111010011100\n",
    "\n",
    "reverseBits(n)"
   ]
  },
  {
   "cell_type": "code",
   "execution_count": 3,
   "metadata": {},
   "outputs": [
    {
     "data": {
      "text/plain": [
       "3221225471"
      ]
     },
     "execution_count": 3,
     "metadata": {},
     "output_type": "execute_result"
    }
   ],
   "source": [
    "n = 0b11111111111111111111111111111101\n",
    "\n",
    "reverseBits(n)"
   ]
  },
  {
   "cell_type": "markdown",
   "metadata": {},
   "source": [
    "# 另一種作法\n",
    "\n",
    "其實也可以先轉成二位字串來轉, 程式方面會簡單許多, 但是本質上其實是一樣的"
   ]
  },
  {
   "cell_type": "code",
   "execution_count": 4,
   "metadata": {},
   "outputs": [],
   "source": [
    "def reverseBits(n):\n",
    "    return int(f\"{n:0>32b}\"[-1::-1], 0b10)"
   ]
  },
  {
   "cell_type": "code",
   "execution_count": 5,
   "metadata": {},
   "outputs": [
    {
     "data": {
      "text/plain": [
       "964176192"
      ]
     },
     "execution_count": 5,
     "metadata": {},
     "output_type": "execute_result"
    }
   ],
   "source": [
    "n = 0b00000010100101000001111010011100\n",
    "\n",
    "reverseBits(n)"
   ]
  },
  {
   "cell_type": "code",
   "execution_count": 6,
   "metadata": {},
   "outputs": [
    {
     "data": {
      "text/plain": [
       "3221225471"
      ]
     },
     "execution_count": 6,
     "metadata": {},
     "output_type": "execute_result"
    }
   ],
   "source": [
    "n = 0b11111111111111111111111111111101\n",
    "\n",
    "reverseBits(n)"
   ]
  }
 ],
 "metadata": {
  "kernelspec": {
   "display_name": "Python 3",
   "language": "python",
   "name": "python3"
  },
  "language_info": {
   "codemirror_mode": {
    "name": "ipython",
    "version": 3
   },
   "file_extension": ".py",
   "mimetype": "text/x-python",
   "name": "python",
   "nbconvert_exporter": "python",
   "pygments_lexer": "ipython3",
   "version": "3.7.5"
  }
 },
 "nbformat": 4,
 "nbformat_minor": 2
}
