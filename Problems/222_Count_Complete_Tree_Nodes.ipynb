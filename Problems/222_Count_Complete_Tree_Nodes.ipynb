{
 "cells": [
  {
   "cell_type": "markdown",
   "metadata": {},
   "source": [
    "# level: Medium\n",
    "\n",
    "# Description\n",
    "\n",
    "Given a complete binary tree, count the number of nodes."
   ]
  },
  {
   "cell_type": "markdown",
   "metadata": {},
   "source": [
    "給定一個完全二元樹, 計算其節點數量"
   ]
  },
  {
   "cell_type": "markdown",
   "metadata": {},
   "source": [
    "# Note:\n",
    "\n",
    "* Definition of a complete binary tree from [Wikipedia]:\n",
    ">    In a complete binary tree every level, except possibly the last, is completely filled, and all nodes in the last level are as far left as possible. It can have between 1 and 2h nodes inclusive at the last level h.\n",
    "\n",
    "[Wikipedia]: https://en.wikipedia.org/wiki/Binary_tree#Types_of_binary_trees "
   ]
  },
  {
   "cell_type": "markdown",
   "metadata": {},
   "source": [
    "[維基百科]上對完全二元樹之定義:\n",
    "> 在完全二元樹的每一層, 除最後一層外, 都被完全填滿, 而最後一層的節點都盡可能向左靠. 最後一層(h) 有的節點數介於 1 與 $2^{h}$ 之間.\n",
    "\n",
    "[維基百科]: https://en.wikipedia.org/wiki/Binary_tree#Types_of_binary_trees "
   ]
  },
  {
   "cell_type": "markdown",
   "metadata": {},
   "source": [
    "# 想法\n",
    "\n",
    "1. 先一直 `.left` 來取得總共層數 h.\n",
    "\n",
    "2. 最後一層使用二元檢索法來找出最右邊的有效節點"
   ]
  },
  {
   "cell_type": "markdown",
   "metadata": {},
   "source": [
    "# input:\n",
    "root: TeeNode\n",
    "\n",
    "# output:\n",
    "int: 節點個數"
   ]
  },
  {
   "cell_type": "markdown",
   "metadata": {},
   "source": [
    "# 前定義:"
   ]
  },
  {
   "cell_type": "code",
   "execution_count": 1,
   "metadata": {},
   "outputs": [],
   "source": [
    "class TreeNode:\n",
    "    def __init__(self, val=0, left=None, right=None):\n",
    "        self.val = val\n",
    "        self.left = left\n",
    "        self.right = right"
   ]
  },
  {
   "cell_type": "markdown",
   "metadata": {},
   "source": [
    "# 預處理函數"
   ]
  },
  {
   "cell_type": "code",
   "execution_count": 2,
   "metadata": {},
   "outputs": [],
   "source": [
    "def getleaf(root, idx, length):\n",
    "    step = '{:0>' + str(length) + 'b}'\n",
    "    step = step.format(idx)\n",
    "    for x in step:\n",
    "        if x == '0':\n",
    "            root = root.left\n",
    "        else:\n",
    "            root = root.right\n",
    "    return root"
   ]
  },
  {
   "cell_type": "markdown",
   "metadata": {},
   "source": [
    "# 主處理函數"
   ]
  },
  {
   "cell_type": "code",
   "execution_count": 3,
   "metadata": {},
   "outputs": [],
   "source": [
    "def countNodes(root):\n",
    "    if not root: return 0\n",
    "    l = \"\"\n",
    "    leftmost = root.left\n",
    "    if not leftmost: return 1\n",
    "    while leftmost:\n",
    "        l += \"0\"\n",
    "        leftmost = leftmost.left\n",
    "    r = \"\"\n",
    "    rightmost = root\n",
    "    for x in l:\n",
    "        r += \"1\"\n",
    "        rightmost = rightmost.right\n",
    "    if rightmost: return 2 ** (len(l) + 1) - 1\n",
    "    length = len(l)\n",
    "    l = int(l, 2)\n",
    "    r = int(r, 2)\n",
    "    while True:\n",
    "        idx = l + (r - l) // 2\n",
    "        if idx == l:\n",
    "            return l + 2 ** (length)\n",
    "        if getleaf(root, idx, length):\n",
    "            l = idx\n",
    "        else:\n",
    "            r = idx"
   ]
  },
  {
   "cell_type": "code",
   "execution_count": 4,
   "metadata": {},
   "outputs": [
    {
     "data": {
      "text/plain": [
       "6"
      ]
     },
     "execution_count": 4,
     "metadata": {},
     "output_type": "execute_result"
    }
   ],
   "source": [
    "root = TreeNode(1)\n",
    "\n",
    "root.left = TreeNode(2)\n",
    "root.right = TreeNode(3)\n",
    "\n",
    "root.left.left = TreeNode(4)\n",
    "root.left.right = TreeNode(5)\n",
    "\n",
    "\n",
    "root.right.left = TreeNode(6)\n",
    "\n",
    "countNodes(root)"
   ]
  }
 ],
 "metadata": {
  "kernelspec": {
   "display_name": "Python 3",
   "language": "python",
   "name": "python3"
  },
  "language_info": {
   "codemirror_mode": {
    "name": "ipython",
    "version": 3
   },
   "file_extension": ".py",
   "mimetype": "text/x-python",
   "name": "python",
   "nbconvert_exporter": "python",
   "pygments_lexer": "ipython3",
   "version": "3.7.5"
  }
 },
 "nbformat": 4,
 "nbformat_minor": 2
}
