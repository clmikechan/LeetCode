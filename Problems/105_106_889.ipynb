{
 "cells": [
  {
   "cell_type": "markdown",
   "metadata": {},
   "source": [
    "# 105. Construct Binary Tree from Preorder and Inorder Traversal\n",
    "# 106. Construct Binary Tree from Inorder and Postorder Traversal\n",
    "# 889. Construct Binary Tree from Preorder and Postorder Traversal\n",
    "\n",
    "難度都是 Medium\n",
    "\n",
    "這三題其實有相似的解法: 不管是 Inorder, Postorder 還是 Preorder, 可以將列表分成三個部分:\n",
    "* 根結點 \n",
    "* 根結點之左半部\n",
    "* 根結點之右半部\n",
    "\n",
    "差別在出現的相對順序不同:\n",
    "\n",
    "* Inorder: 左半部, 根結點, 右半部\n",
    "* Postorder: 左半部, 右半部, 根結點\n",
    "* Preorder: 根結點, 左半部, 右半部\n",
    "\n",
    "也可以看出左半部一定在右半部前面\n",
    "\n",
    "所以可以一直遞迴式的定義左結點和右結點\n",
    "\n",
    "此外可以看出, 889. 有可能會有不同的 Tree, 因為全部都在根結點的左邊與全部都在根結點的右邊會有一樣的輸入值"
   ]
  },
  {
   "cell_type": "code",
   "execution_count": 1,
   "metadata": {},
   "outputs": [],
   "source": [
    "from predefinitions import TreeNode\n",
    "# 下面的這個是從 LeetCode 的 Debug 部分取出來的\n",
    "def prettyPrintTree(node, prefix=\"\", isLeft=True):\n",
    "    if not node:\n",
    "        print(\"Empty Tree\")\n",
    "        return\n",
    "\n",
    "    if node.right:\n",
    "        prettyPrintTree(node.right, prefix + (\"│   \" if isLeft else \"    \"), False)\n",
    "\n",
    "    print(prefix + (\"└── \" if isLeft else \"┌── \") + str(node.val))\n",
    "\n",
    "    if node.left:\n",
    "        prettyPrintTree(node.left, prefix + (\"    \" if isLeft else \"│   \"), True)"
   ]
  },
  {
   "cell_type": "markdown",
   "metadata": {},
   "source": [
    "# 105"
   ]
  },
  {
   "cell_type": "code",
   "execution_count": 2,
   "metadata": {},
   "outputs": [],
   "source": [
    "def buildTree(preorder, inorder):\n",
    "    if not inorder: return None\n",
    "    headval = preorder[0]\n",
    "    leftnum = inorder.index(headval)\n",
    "    head = TreeNode(headval)\n",
    "    head.left = buildTree(preorder[1 :leftnum + 1], inorder[:leftnum])\n",
    "    head.right = buildTree(preorder[leftnum + 1:], inorder[leftnum + 1:])\n",
    "    return head"
   ]
  },
  {
   "cell_type": "code",
   "execution_count": 3,
   "metadata": {},
   "outputs": [
    {
     "name": "stdout",
     "output_type": "stream",
     "text": [
      "│       ┌── 7\n",
      "│   ┌── 20\n",
      "│   │   └── 15\n",
      "└── 3\n",
      "    └── 9\n"
     ]
    }
   ],
   "source": [
    "preorder = [3,9,20,15,7]\n",
    "inorder = [9,3,15,20,7]\n",
    "prettyPrintTree(buildTree(preorder, inorder))"
   ]
  },
  {
   "cell_type": "markdown",
   "metadata": {},
   "source": [
    "# 106"
   ]
  },
  {
   "cell_type": "code",
   "execution_count": 4,
   "metadata": {},
   "outputs": [],
   "source": [
    "def buildTree(inorder, postorder):\n",
    "    if not inorder: return None\n",
    "    headval = postorder[-1]\n",
    "    leftnum = inorder.index(headval)\n",
    "    head = TreeNode(headval)\n",
    "    head.left = buildTree(inorder[:leftnum], postorder[:leftnum])\n",
    "    head.right = buildTree(inorder[leftnum + 1:], postorder[leftnum:-1])\n",
    "    return head"
   ]
  },
  {
   "cell_type": "code",
   "execution_count": 5,
   "metadata": {},
   "outputs": [
    {
     "name": "stdout",
     "output_type": "stream",
     "text": [
      "│       ┌── 7\n",
      "│   ┌── 20\n",
      "│   │   └── 15\n",
      "└── 3\n",
      "    └── 9\n"
     ]
    }
   ],
   "source": [
    "inorder = [9,3,15,20,7]\n",
    "postorder = [9,15,7,20,3]\n",
    "prettyPrintTree(buildTree(inorder, postorder))"
   ]
  },
  {
   "cell_type": "markdown",
   "metadata": {},
   "source": [
    "# 889"
   ]
  },
  {
   "cell_type": "code",
   "execution_count": 6,
   "metadata": {},
   "outputs": [],
   "source": [
    "def constructFromPrePost(pre, post):\n",
    "    if not pre: return None\n",
    "    if len(pre) == 1: return TreeNode(pre[0])\n",
    "    nums = post.index(pre[1])\n",
    "    head = TreeNode(pre[0])\n",
    "    head.left = constructFromPrePost(pre[1:nums + 2], post[:nums + 1])\n",
    "    head.right = constructFromPrePost(pre[nums + 2:], post[nums + 1:-1])\n",
    "    return head"
   ]
  },
  {
   "cell_type": "code",
   "execution_count": 7,
   "metadata": {},
   "outputs": [
    {
     "name": "stdout",
     "output_type": "stream",
     "text": [
      "│       ┌── 7\n",
      "│   ┌── 3\n",
      "│   │   └── 6\n",
      "└── 1\n",
      "    │   ┌── 5\n",
      "    └── 2\n",
      "        └── 4\n"
     ]
    }
   ],
   "source": [
    "pre = [1,2,4,5,3,6,7]\n",
    "post = [4,5,2,6,7,3,1]\n",
    "prettyPrintTree(constructFromPrePost(pre, post))"
   ]
  },
  {
   "cell_type": "code",
   "execution_count": null,
   "metadata": {},
   "outputs": [],
   "source": []
  }
 ],
 "metadata": {
  "kernelspec": {
   "display_name": "Python 3",
   "language": "python",
   "name": "python3"
  },
  "language_info": {
   "codemirror_mode": {
    "name": "ipython",
    "version": 3
   },
   "file_extension": ".py",
   "mimetype": "text/x-python",
   "name": "python",
   "nbconvert_exporter": "python",
   "pygments_lexer": "ipython3",
   "version": "3.7.5"
  }
 },
 "nbformat": 4,
 "nbformat_minor": 2
}
