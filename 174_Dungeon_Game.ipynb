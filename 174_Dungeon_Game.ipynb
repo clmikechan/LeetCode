{
 "cells": [
  {
   "cell_type": "markdown",
   "metadata": {},
   "source": [
    "# level: Hard\n",
    "\n",
    "# Description\n",
    "\n",
    "The demons had captured the princess (P) and imprisoned her in the bottom-right corner of a dungeon. The dungeon consists of M x N rooms laid out in a 2D grid. Our valiant knight (K) was initially positioned in the top-left room and must fight his way through the dungeon to rescue the princess.\n",
    "\n",
    "The knight has an initial health point represented by a positive integer. If at any point his health point drops to 0 or below, he dies immediately.\n",
    "\n",
    "Some of the rooms are guarded by demons, so the knight loses health (negative integers) upon entering these rooms; other rooms are either empty (0's) or contain magic orbs that increase the knight's health (positive integers).\n",
    "\n",
    "In order to reach the princess as quickly as possible, the knight decides to move only rightward or downward in each step.\n",
    "\n",
    " \n",
    "\n",
    "Write a function to determine the knight's minimum initial health so that he is able to rescue the princess.\n",
    "\n",
    "For example, given the dungeon below, the initial health of the knight must be at least 7 if he follows the optimal path RIGHT-> RIGHT -> DOWN -> DOWN."
   ]
  },
  {
   "cell_type": "markdown",
   "metadata": {},
   "source": [
    "惡魔抓住了公主(P) 並將其監禁在地城(dungeon) 之右下角.\n",
    "地城有 M x N 個房間構成二維盤面.\n",
    "一位英勇的騎士(K) 從左上方進入並且中戰鬥並救出公主.\n",
    "\n",
    "騎士有以正整數表示的初始的血量數值, 只要在任一時刻其血量降到 0 或更低, 他就會立刻死亡.\n",
    "\n",
    "有些房間有惡魔駐守, 所以會使騎士在進入房間之後受傷(負整數); 其他房間可能是空的(0) 或著是有回復道具使騎士回血(正整數).\n",
    "\n",
    "為了盡快到達公主所在地, 騎士決定每次都只走向右或向下.\n",
    "\n",
    "寫下一個函數決定騎士要解救公主所需之最少血量.\n",
    "\n",
    "以下面的地城為例, 騎士一開始需要有最少七點血量如果他走最佳路徑 右 -> 右 -> 下 -> 下\n",
    "\n",
    "||||\n",
    "|-|-|-|\n",
    "|-2 (K)|-3|3|\n",
    "|-5|-10|1|\n",
    "|10|30|-5 (P)|"
   ]
  },
  {
   "cell_type": "markdown",
   "metadata": {},
   "source": [
    "# Note:\n",
    "* The knight's health has no upper bound.\n",
    "* Any room can contain threats or power-ups, even the first room the knight enters and the bottom-right room where the princess is imprisoned."
   ]
  },
  {
   "cell_type": "markdown",
   "metadata": {},
   "source": [
    "* 騎士的血量沒有上限\n",
    "* 每個房間都有威脅或助益, 包含騎士最初的房間以及公主被監禁處"
   ]
  },
  {
   "cell_type": "markdown",
   "metadata": {},
   "source": [
    "# 想法\n",
    "\n",
    "1. 從最右下往回推, 每一格都計算他要進入這一格所需之最小血量\n",
    "> 例子的最後一格會扣五點血(-5) 所以要進入這一格之前騎士需要有 x + (-5) = 1 => 最少要有 6 點血\n",
    "2. 進入[1, 2] 前之血量則是 x + 1 = 6 => x = 5\n",
    "> * 進入 [1, 2] 前血量大於等於 5 滴血的話, 進入後血量大於等於 6 滴血, 所以以此條件進入 [1, 3] 會沒事\n",
    "> * 同理, 進入 [2, 1] 的條件是 x + 30 = 6 => x = -24, 但是因為血量不得小於 1, 所以改用 1 代替\n",
    "> * 換言之, 進入第 [i, j] 格之條件為 x = max(1, min(dungeon[i + 1, j], dungeon[i, j + 1]) - dungeon[i, j])\n",
    "> * 如果沒有第 [i +1, j] 或 [i, j + 1] 格, 則只取有的那一項, 如果兩者都沒有, 則用最終值 1 代替"
   ]
  },
  {
   "cell_type": "markdown",
   "metadata": {},
   "source": [
    "# 實作\n",
    "\n",
    "先建立一個上下左右顛倒的順序的處理矩陣, 每一個都是進入對應格之前的最低血量需求\n",
    "然後逐步往前一格推, 最後就可以得到初始之最低血量需求"
   ]
  },
  {
   "cell_type": "code",
   "execution_count": 1,
   "metadata": {},
   "outputs": [],
   "source": [
    "def calculateMinimumHP(dungeon):\n",
    "    process = []\n",
    "    for l in dungeon[-1::-1]:\n",
    "        tmp = []\n",
    "        for x in l[-1::-1]:\n",
    "            if not process and not tmp:\n",
    "                # 最後一格\n",
    "                tmp.append(max(1 - x, 1))\n",
    "\n",
    "            elif not tmp:\n",
    "                # 沒有[i, j + 1]\n",
    "                tmp.append(max(1,process[-1][0] - x))\n",
    "\n",
    "            elif not process:\n",
    "                # 沒有 [i + 1, j]:\n",
    "                tmp.append(max(1,tmp[-1] - x))\n",
    "\n",
    "            else:\n",
    "                # 有 [i + 1, j] 也有 [i, j + 1]\n",
    "                tmp.append(max(1, min(tmp[-1] - x, process[-1][len(tmp)] - x)))\n",
    "\n",
    "        process.append(tmp)\n",
    "    return process[-1][-1]"
   ]
  },
  {
   "cell_type": "code",
   "execution_count": 2,
   "metadata": {},
   "outputs": [
    {
     "data": {
      "text/plain": [
       "7"
      ]
     },
     "execution_count": 2,
     "metadata": {},
     "output_type": "execute_result"
    }
   ],
   "source": [
    "dungeon = [[-2,-3,3],[-5,-10,1],[10,30,-5]]\n",
    "calculateMinimumHP(dungeon)"
   ]
  },
  {
   "cell_type": "markdown",
   "metadata": {},
   "source": [
    "# 二版\n",
    "\n",
    "其實不需要儲存每一個位置的資訊, 每次只需儲存前一 row 之結果"
   ]
  },
  {
   "cell_type": "code",
   "execution_count": 3,
   "metadata": {},
   "outputs": [],
   "source": [
    "def calculateMinimumHP(dungeon):\n",
    "    process = []\n",
    "    for l in dungeon[-1::-1]:\n",
    "        tmp = []\n",
    "        for x in l[-1::-1]:\n",
    "            if not process and not tmp:\n",
    "                # 最後一格\n",
    "                tmp.append(max(1 - x, 1))\n",
    "\n",
    "            elif not tmp:\n",
    "                # 沒有[i, j + 1]\n",
    "                tmp.append(max(1,process[0] - x))\n",
    "\n",
    "            elif not process:\n",
    "                # 沒有 [i + 1, j]:\n",
    "                tmp.append(max(1,tmp[-1] - x))\n",
    "\n",
    "            else:\n",
    "                # 有 [i + 1, j] 也有 [i, j + 1]\n",
    "                tmp.append(max(1, min(tmp[-1] - x, process[len(tmp)] - x)))\n",
    "\n",
    "        process = tmp\n",
    "    return process[-1]"
   ]
  },
  {
   "cell_type": "code",
   "execution_count": 4,
   "metadata": {},
   "outputs": [
    {
     "data": {
      "text/plain": [
       "7"
      ]
     },
     "execution_count": 4,
     "metadata": {},
     "output_type": "execute_result"
    }
   ],
   "source": [
    "dungeon = [[-2,-3,3],[-5,-10,1],[10,30,-5]]\n",
    "calculateMinimumHP(dungeon)"
   ]
  },
  {
   "cell_type": "markdown",
   "metadata": {},
   "source": [
    "# 三版\n",
    "修改修改 process 之方式, 因此不需要 tmp"
   ]
  },
  {
   "cell_type": "code",
   "execution_count": 1,
   "metadata": {},
   "outputs": [],
   "source": [
    "def calculateMinimumHP(dungeon):\n",
    "    process = []\n",
    "    for l in dungeon[-1::-1]:\n",
    "        for j, x in enumerate(l[-1::-1]):\n",
    "            if not process:\n",
    "                # 最後一格\n",
    "                process.append(max(1 - x, 1))\n",
    "\n",
    "            elif j == 0:\n",
    "                # 沒有[i, j + 1]\n",
    "                process[j] = max(1,process[j] - x)\n",
    "\n",
    "            elif len(process) < len(dungeon[0]):\n",
    "                # 沒有 [i + 1, j]:\n",
    "                process.append(max(1,process[j -1] - x))\n",
    "\n",
    "            else:\n",
    "                # 有 [i + 1, j] 也有 [i, j + 1]\n",
    "                process[j] = max(1, min(process[j - 1], process[j]) - x)\n",
    "    return process[-1]"
   ]
  },
  {
   "cell_type": "code",
   "execution_count": 2,
   "metadata": {},
   "outputs": [
    {
     "data": {
      "text/plain": [
       "7"
      ]
     },
     "execution_count": 2,
     "metadata": {},
     "output_type": "execute_result"
    }
   ],
   "source": [
    "dungeon = [[-2,-3,3],[-5,-10,1],[10,30,-5]]\n",
    "calculateMinimumHP(dungeon)"
   ]
  },
  {
   "cell_type": "code",
   "execution_count": null,
   "metadata": {},
   "outputs": [],
   "source": []
  }
 ],
 "metadata": {
  "kernelspec": {
   "display_name": "Python 3",
   "language": "python",
   "name": "python3"
  },
  "language_info": {
   "codemirror_mode": {
    "name": "ipython",
    "version": 3
   },
   "file_extension": ".py",
   "mimetype": "text/x-python",
   "name": "python",
   "nbconvert_exporter": "python",
   "pygments_lexer": "ipython3",
   "version": "3.7.5"
  }
 },
 "nbformat": 4,
 "nbformat_minor": 2
}
